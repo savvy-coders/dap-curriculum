{
 "cells": [
  {
   "cell_type": "markdown",
   "metadata": {},
   "source": [
    "# Python Advanced Data Types\n",
    "\n",
    "There are 4 compound data types and data structures in Python. These are -- Lists, Tuples, Sets, and Dictionaries.\n",
    "\n",
    "Variables have so far only stored one value. Compound data structures are data types that can store a large number of values.\n",
    "\n",
    "## Lists\n",
    "\n",
    "In Python, a list is an ordered sequence that can hold several object types such as integer, character, or float. In other programming languages, a list is equivalent to an array.\n",
    "\n",
    "A `List` is just a list of values separated by commas, and enclosed in square square brackets `[ ]`.\n",
    "\n",
    "- Lists always have a strict order BUT they can be modified\n",
    "- Lists can have any number of duplicate elements in the list\n",
    "- Lists can contain any data type\n"
   ]
  },
  {
   "cell_type": "code",
   "execution_count": null,
   "metadata": {},
   "outputs": [],
   "source": [
    "# Lists\n",
    "\n",
    "inputList = [\"hello\", \"class\", 1, 3.5, \"python\", [1,2,3,4,5], {help : \"documents\"}, False, \"end\" ]\n",
    "print(inputList)\n"
   ]
  }
 ],
 "metadata": {
  "kernelspec": {
   "display_name": "Python 3.10.7 64-bit",
   "language": "python",
   "name": "python3"
  },
  "language_info": {
   "name": "python",
   "version": "3.10.7"
  },
  "orig_nbformat": 4,
  "vscode": {
   "interpreter": {
    "hash": "369f2c481f4da34e4445cda3fffd2e751bd1c4d706f27375911949ba6bb62e1c"
   }
  }
 },
 "nbformat": 4,
 "nbformat_minor": 2
}
