{
 "cells": [
  {
   "cell_type": "markdown",
   "metadata": {},
   "source": [
    "# Python Advanced Data Types\n",
    "\n",
    "OBJECTIVES of This Section: Learn about ...\n",
    "\n",
    "- Lists and List operations\n",
    "- Tuples\n",
    "- Sets\n",
    "- Dictionaries\n",
    "\n",
    "\n",
    "There are 4 compound data types and data structures in Python. These are -- Lists, Tuples, Sets, and Dictionaries.\n",
    "\n",
    "Variables have so far only stored one value. Compound data structures are data types that can store a large number of values.\n",
    "\n",
    "<br>\n",
    "\n",
    "---\n",
    "\n",
    "<br>\n",
    "\n",
    "## Lists\n",
    "\n",
    "In Python, a list is an ordered sequence that can hold several object types such as integer, character, or float. In other programming languages, a list is equivalent to an array.\n",
    "\n",
    "**A `List` is just a list of values separated by commas, and enclosed in square square brackets `[ ]`.**\n",
    "\n",
    "- Lists always have a strict order BUT they can be modified\n",
    "- Lists can have any number of duplicate elements in the list\n",
    "- Lists can contain any data type\n"
   ]
  },
  {
   "cell_type": "code",
   "execution_count": null,
   "metadata": {},
   "outputs": [],
   "source": [
    "# List examples\n",
    "inputList = [\"hello\", \"class\", 1, 3.5, \"python\", [1,2,3,4,5], {\"helpfulStuff\" : \"documents\"}, False, \"end\" ]\n",
    "print(\"inputList ...\", inputList)\n",
    "\n",
    "fruitList = [\"apple\", \"banana\", \"cherry\"]\n",
    "print(\"\\nfruitList ...\", fruitList)\n"
   ]
  },
  {
   "cell_type": "markdown",
   "metadata": {},
   "source": [
    "### Operations on List\n",
    "\n",
    "There are numerous operations that can be performed on lists\n",
    "- getting the length\n",
    "- accessing elements by index\n",
    "- extending and changing lists\n",
    "- adding and repeating lists\n",
    "- sorting lists\n",
    "- copy, clear and delete lists\n",
    "\n",
    "<br>\n",
    "\n",
    "#### **1.) Getting the Size of the List using the `.len()` function**\n",
    "\n",
    "Get the length / size of the list using the len() function\n",
    "(The number of items in an object is returned by the len() method. )\n",
    "\n",
    "The `.len()` function returns the number of items in a list, when the object is a list, and create a variable to store this value.\n"
   ]
  },
  {
   "cell_type": "code",
   "execution_count": null,
   "metadata": {},
   "outputs": [],
   "source": [
    "# input list\n",
    "lst = [\"Hello\", \"TutorialsPoint\", 78, \"Hi\", \"Everyone\"]\n",
    "\n",
    "# getting list length\n",
    "listLength = len(lst)\n",
    "\n",
    "# Printing the size of a list\n",
    "print(\"Size of thea List = \", listLength)\n"
   ]
  },
  {
   "cell_type": "markdown",
   "metadata": {},
   "source": [
    "#### **2.) Accessing List Elements Using `Indexing`**\n",
    "\n",
    "The term \"indexing\" refers to an element of an iterable, based on its position inside the iterable.\n",
    "\n",
    "The indexing begins from 0. The first element in a sequence is represented by index 0.\n",
    "\n",
    "Negative indexing begins from -1. The last element in the sequence is represented by index -1."
   ]
  },
  {
   "cell_type": "code",
   "execution_count": null,
   "metadata": {},
   "outputs": [],
   "source": [
    "# input list\n",
    "inputList =[1, 4, 8, 6, 2]\n",
    "\n",
    "# accessing the list element at index 2 using positive indexing\n",
    "print(\"Element at index 2:\", inputList[2])\n",
    "\n",
    "# accessing the last element in list using negative indexing\n",
    "print(\"last element of the input list:\", inputList[-1])\n"
   ]
  },
  {
   "cell_type": "markdown",
   "metadata": {},
   "source": [
    "#### **3.) Extending and Changing a List**\n",
    "\n",
    "- One can replace an element in a list using the index value of the element\n",
    "\n",
    "- Using indexing, a range of elements can be changed or removed from a List\n",
    "\n",
    "- Items can be added to one list from another list with `.extend()`\n",
    "\n",
    "- Items can be `.removed()` from, or `.pop()`-ed off a list"
   ]
  },
  {
   "cell_type": "code",
   "execution_count": null,
   "metadata": {},
   "outputs": [],
   "source": [
    "# Remember fruitList? What is the length?\n",
    "fruitList = [\"apple\", \"banana\", \"cherry\"]\n",
    "print(\"fruitList length = \", len(fruitList))\n",
    "\n",
    "# find the 2nd element of the fruitList\n",
    "print(\"\\nSecond fruit ... \", fruitList[1])\n",
    "\n",
    "# replace the 2nd element in the list\n",
    "fruitList[1] = \"blackcurrant\"\n",
    "print(\"2nd fruit replaced ... \", fruitList)\n"
   ]
  },
  {
   "cell_type": "code",
   "execution_count": null,
   "metadata": {},
   "outputs": [],
   "source": [
    "# replace a range of elements from index #1 to index #3 (not including #3)\n",
    "fruitList = [\"apple\", \"blackcurrant\", \"cherry\"]\n",
    "fruitList[1:3] = [\"blackberry\", \"watermelon\"]\n",
    "print(\" replaced [1:3] ... \", fruitList)\n"
   ]
  },
  {
   "cell_type": "code",
   "execution_count": null,
   "metadata": {},
   "outputs": [],
   "source": [
    "# 'appending' an element at the end of the list\n",
    "fruitList = [\"apple\", \"blackcurrant\", \"cherry\"]\n",
    "fruitList.append(\"orange\")\n",
    "print(\"New list ... \", fruitList)\n",
    "\n",
    "# 'insert' an element at index #1\n",
    "fruitList.insert(1, \"Bananana\")\n",
    "print(\"\\nBigger list .. \", fruitList)\n"
   ]
  },
  {
   "cell_type": "code",
   "execution_count": null,
   "metadata": {},
   "outputs": [],
   "source": [
    "# 'extend' one list with another\n",
    "firstList = [\"apple\", \"banana\", \"cherry\"]\n",
    "secondList = [\"mango\", \"pineapple\", \"papaya\"]\n",
    "\n",
    "firstList.extend(secondList)\n",
    "print(\"Extended firstList ... \", firstList)\n"
   ]
  },
  {
   "cell_type": "code",
   "execution_count": null,
   "metadata": {},
   "outputs": [],
   "source": [
    "superFruitList = [\"apple\", \"banana\", \"cherry\", \"mango\", \"pineapple\", \"papaya\"]\n",
    "\n",
    "# 'removing' an element from the list\n",
    "superFruitList.remove(\"banana\")\n",
    "print(\"superFruitList = \", superFruitList)\n",
    "\n",
    "# 'pop' off an element at index #1\n",
    "superFruitList.pop(1)\n",
    "print(\"\\nsuperFruitList #1 popped = \", superFruitList)\n",
    "\n",
    "# 'pop' the last element with pop()\n",
    "superFruitList.pop()\n",
    "print(\"\\nsuperFruitList last popped = \", superFruitList)\n"
   ]
  },
  {
   "cell_type": "markdown",
   "metadata": {},
   "source": [
    "#### **4.) Repetition(*) and Addition(+) operators on List Items**\n",
    "\n",
    "Python List includes the `*` and the `+` operators, which allow for creating a new list with more elements.\n"
   ]
  },
  {
   "cell_type": "code",
   "execution_count": null,
   "metadata": {},
   "outputs": [],
   "source": [
    "# add 2 lists together with the addition (+) sign\n",
    "list1 = [\"apple\", \"banana\", \"cherry\"]\n",
    "list2 = [\"kiwi\", \"strawberry\", \"grape\"]\n",
    "list3 = list1 + list2\n",
    "print(\"New added list ...\", list3)\n",
    "\n",
    "# repeat a list for a number of times (*)\n",
    "inputList = [5, 6, 7]\n",
    "# Repeating the input list 3 times using the * operator\n",
    "multipliedList = inputList * 3\n",
    "print(\"\\nMultiplied list ... \", multipliedList)\n"
   ]
  },
  {
   "cell_type": "markdown",
   "metadata": {},
   "source": [
    "#### **5.) Sorting Lists in different ways**\n",
    "\n",
    "The sort() method sorts the list ascending by default.\n",
    "\n",
    "Syntax: - \n",
    "list.sort(reverse=True|False, key=myFunc)\n",
    "- reverse is Optional. reverse=True will sort the list descending. Default is reverse=False\n",
    "- key is Optional. A function to specify the sorting criteria(s)\n",
    "\n",
    "We'll revisit sorting by keys when we learn about Functions\n"
   ]
  },
  {
   "cell_type": "code",
   "execution_count": null,
   "metadata": {},
   "outputs": [],
   "source": [
    "# 'sort' a list descending\n",
    "cars = ['Ford', 'BMW', 'Volvo']\n",
    "cars.sort(reverse=True)\n",
    "print(\"Sort1 - \", cars)\n",
    "\n",
    "# 'sort' assenting\n",
    "cars.sort()\n",
    "print(\"Sort2 - \", cars)\n"
   ]
  },
  {
   "cell_type": "code",
   "execution_count": null,
   "metadata": {},
   "outputs": [],
   "source": [
    "# Sort a list using a 'key'\n",
    "#   EG: sort by the length of the values in the list:\n",
    "cars = ['Ford', 'Mitsubishi', 'BMW', 'VW']\n",
    "\n",
    "# Define a function that returns the length of the values in the List:\n",
    "def myFunc(e):\n",
    "    return len(e)\n",
    "\n",
    "cars.sort(key=myFunc)\n",
    "print(cars)\n"
   ]
  },
  {
   "cell_type": "markdown",
   "metadata": {},
   "source": [
    "#### **6.) Copy, Clear and Delete lists**\n",
    "\n",
    "- The copy() method returns a shallow copy of the list; It returns a new list, and it doesn't modify the original list.\n",
    "- We can also use the `\"=\"` operator to \"copy\" a list by assigning the 'old_list' to a 'new_list'. \n",
    "    -   However, there is a problem copying lists in this way: \n",
    "    -   When modifying 'new_list', the 'old_list' is also modified\n",
    "    -   This is because the new list is **referencing or pointing** to the same 'old_list' object location/address in system memory"
   ]
  },
  {
   "cell_type": "code",
   "execution_count": null,
   "metadata": {},
   "outputs": [],
   "source": [
    "# copying a list using .copy()\n",
    "first_list = ['cat', 0, 6.7]\n",
    "\n",
    "new_list = first_list.copy()\n",
    "print('Copied List:', new_list)\n"
   ]
  },
  {
   "cell_type": "code",
   "execution_count": null,
   "metadata": {},
   "outputs": [],
   "source": [
    "# Issues with copying a list through ASSIGNMENT \"=\"\n",
    "old_list = [1, 2, 3]\n",
    "\n",
    "# copy list using =\n",
    "new_list = old_list\n",
    "\n",
    "# add an element to new_list\n",
    "new_list.append(\"a\")\n",
    "\n",
    "# both lists reference the same location in memory\n",
    "print('New List:', new_list)\n",
    "print('Old List:', old_list)\n"
   ]
  },
  {
   "cell_type": "code",
   "execution_count": null,
   "metadata": {},
   "outputs": [],
   "source": [
    "# The .clear() method removes all items from a list.\n",
    "prime_numbers = [2, 3, 5, 7, 9, 11]\n",
    "\n",
    "# remove all list elements\n",
    "prime_numbers.clear()\n",
    "\n",
    "# Updated prime_numbers List\n",
    "print('List after clear():', prime_numbers)\n"
   ]
  },
  {
   "cell_type": "code",
   "execution_count": null,
   "metadata": {},
   "outputs": [],
   "source": [
    "# Remove items by index or slice using 'del'\n",
    "list_l = [0, 10, 20, 30, 40, 50]\n",
    "\n",
    "del list_l[3]\n",
    "print(list_l)\n",
    "\n",
    "del list_l[-2]\n",
    "print(list_l)\n",
    "\n",
    "# completely delete a list\n",
    "del list_l\n",
    "print(list_l)\n"
   ]
  },
  {
   "cell_type": "markdown",
   "metadata": {},
   "source": [
    "## Tuples\n",
    "\n",
    "In Python, **a `Tuple` is just a list of values ...**\n",
    "\n",
    "- Tuples are a list of commas separated values\n",
    "- Mostly written with round brackets ()\n",
    "- Tuple items can be of any mixed data types\n",
    "- Tuple items are ordered, unchangeable, and allow duplicate values\n",
    "- Tuples have a `.len()` method, and items are indexed\n",
    "- To create a tuple with only one item, you have to add a comma after the item, otherwise Python will not recognize it as a tuple\n",
    "- Tuples respond to all of the general sequence operations we used on strings\n",
    "- Assigning values to a Tuple is known as \"packing\" a tuple\n",
    "\n",
    "**Ordered:**\n",
    "It means that the items have a defined indexed order, and that order will not change. The first item has index [0], the second item has index [1] etc.\n",
    "\n",
    "**Unchangeable:**\n",
    "Tuples are unchangeable, meaning that we cannot change, add or remove items after the tuple has been created (there are workarounds but that’s for a later time).\n",
    "\n",
    "**Allow Duplicates:**\n",
    "Since tuples are indexed, they can have items with the same value.\n"
   ]
  },
  {
   "cell_type": "code",
   "execution_count": null,
   "metadata": {},
   "outputs": [],
   "source": [
    "# Create a tuple by defining comma-separated values\n",
    "# Optionally place these comma-separated values between parentheses\n",
    "\n",
    "tup1 = 'physics', 'chemistry', 1997, 2000\n",
    "tup2 = (1, 2, 3, 4, 5)\n",
    "tup3 = \"a\", \"b\", \"c\", \"d\"\n",
    "print(tup1, tup2, tup3)\n",
    "\n",
    "# The empty tuple is written as two parentheses containing nothing\n",
    "tup4 = ()\n",
    "print(\"\\nempty tuple ... \", tup4)\n",
    "\n",
    "# create a single value tuple by including a comma, even though there is only one value\n",
    "tup5 = (50,)\n",
    "print(\"single value tuple ...\", tup5)\n",
    "\n",
    "# packing a Tuple\n",
    "fruits = (\"apple\", \"banana\", \"cherry\")\n",
    "(green, yellow, red) = fruits\n",
    "print(\"\\nTuple packing ...\")\n",
    "print(\"green=\", green, \"yellow=\", yellow, \"red=\", red)\n",
    "\n",
    "# access values in tuples using square brackets for slicing, along with the indexes\n",
    "tup6 = ('physics', 'chemistry', 1997, 2000)\n",
    "tup7 = (1, 2, 3, 4, 5, 6, 7 )\n",
    "print(\"\\ntup6[0] ... \", tup6[0])\n",
    "print(\"\\ntup7[1:5] ... \", tup7[1:5])\n"
   ]
  },
  {
   "cell_type": "code",
   "execution_count": null,
   "metadata": {},
   "outputs": [],
   "source": [
    "# Adding tuples\n",
    "tup8 = (12, 34.56)\n",
    "tup9 = ('abc', 'xyz')\n",
    "tup10 = tup8 + tup9\n",
    "print(\"tup10 ...\", tup10)\n",
    "\n",
    "# multiplying tuples\n",
    "timesTuple = tup9 * 3\n",
    "print(\"timesTuple ...\", timesTuple)\n",
    "\n",
    "# Following action is not valid for tuples\n",
    "# tup8[0] = 100\n"
   ]
  },
  {
   "cell_type": "markdown",
   "metadata": {},
   "source": [
    "### Built-in Tuple Functions\n",
    "\n",
    "- len(tuple) -- Gives the total length of the tuple.\n",
    "- max(tuple) -- Returns item from the tuple with max value.\n",
    "- min(tuple) -- Returns item from the tuple with min value.\n"
   ]
  },
  {
   "cell_type": "code",
   "execution_count": null,
   "metadata": {},
   "outputs": [],
   "source": [
    "# Compare elements of two tuples\n",
    "tup11 = (1, 2, 3, 4, 5, 6, 7, 8)\n",
    "tup12 = (7, 2, 9, 12, 11, 3, 4)\n",
    "\n",
    "print(\"length ...\", len(tup11))\n",
    "print(\"max ...\", max(tup12))\n",
    "print(\"min ...\", min(tup11))\n"
   ]
  },
  {
   "cell_type": "code",
   "execution_count": null,
   "metadata": {},
   "outputs": [],
   "source": [
    "# Deleting Tuple elements\n",
    "\n",
    "tup = ('physics', 'chemistry', 1997, 2000)\n",
    "print(tup)\n",
    "del tup\n",
    "print(\"After deleting tup : \")\n",
    "print(tup)\n"
   ]
  },
  {
   "cell_type": "markdown",
   "metadata": {},
   "source": []
  }
 ],
 "metadata": {
  "kernelspec": {
   "display_name": "Python 3.10.7 64-bit",
   "language": "python",
   "name": "python3"
  },
  "language_info": {
   "codemirror_mode": {
    "name": "ipython",
    "version": 3
   },
   "file_extension": ".py",
   "mimetype": "text/x-python",
   "name": "python",
   "nbconvert_exporter": "python",
   "pygments_lexer": "ipython3",
   "version": "3.10.7"
  },
  "orig_nbformat": 4,
  "vscode": {
   "interpreter": {
    "hash": "369f2c481f4da34e4445cda3fffd2e751bd1c4d706f27375911949ba6bb62e1c"
   }
  }
 },
 "nbformat": 4,
 "nbformat_minor": 2
}
