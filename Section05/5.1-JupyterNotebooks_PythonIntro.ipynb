{
 "cells": [
  {
   "attachments": {},
   "cell_type": "markdown",
   "metadata": {},
   "source": [
    "# Intro to Python 3 and Jupyter Notebooks \n",
    "\n",
    "The OBJECTIVES of This Section: Learn about ...\n",
    "\n",
    "- Data Analytics Intro to Python 3\n",
    "\n",
    "- Achieving easier production flow in Jupyter Notebooks\n",
    "\n",
    "<br>\n",
    "\n",
    "---\n",
    "\n",
    "<br>\n"
   ]
  },
  {
   "attachments": {},
   "cell_type": "markdown",
   "metadata": {},
   "source": [
    "## Data Analytics and Python\n",
    "\n",
    "### What is a Programer?\n",
    "\n",
    "### What is an Analyst?\n",
    "\n",
    "### What will we learn?\n",
    "\n",
    "### What are Algorithms?\n",
    "\n",
    "\n"
   ]
  },
  {
   "attachments": {},
   "cell_type": "markdown",
   "metadata": {},
   "source": [
    "## What is Python?\n",
    "\n",
    "### Two ways to use Python\n",
    "\n",
    "### Types of Programing Languages\n",
    "\n",
    "### Common Programing Vocabulary\n",
    "\n",
    "### Let's Write Some Code!\n",
    "\n",
    "\n"
   ]
  },
  {
   "attachments": {},
   "cell_type": "markdown",
   "metadata": {},
   "source": [
    "## Debugging Code\n",
    "\n",
    "### Examples of Error Types\n",
    "\n",
    "### Debugging is a foundational skill\n",
    "\n",
    "### Helpful Debugging Tips\n",
    "\n",
    "\n"
   ]
  },
  {
   "attachments": {},
   "cell_type": "markdown",
   "metadata": {},
   "source": [
    "\n",
    "---\n",
    "\n",
    "## Jupyter Notebook\n",
    "\n",
    "### What is Jupyter Notebook?\n",
    "\n",
    "### What is the value of using Jupyter Notebook?\n",
    "\n"
   ]
  },
  {
   "attachments": {},
   "cell_type": "markdown",
   "metadata": {},
   "source": [
    "### Installing Jupyter Notebook\n",
    "\n",
    "#### Install it in the Terminal\n",
    "\n",
    "#### Install it in VS Code\n",
    "\n"
   ]
  },
  {
   "cell_type": "markdown",
   "metadata": {},
   "source": [
    "### How to start Jupyter Notebook\n",
    "\n",
    "### Using Jupyter Notebook in VS Code\n",
    "\n",
    "### Read more about Jupyter Notebook\n",
    "\n"
   ]
  },
  {
   "cell_type": "markdown",
   "metadata": {},
   "source": [
    "## Review Summary"
   ]
  },
  {
   "cell_type": "code",
   "execution_count": null,
   "metadata": {},
   "outputs": [],
   "source": []
  }
 ],
 "metadata": {
  "kernelspec": {
   "display_name": "Python 3",
   "language": "python",
   "name": "python3"
  },
  "language_info": {
   "codemirror_mode": {
    "name": "ipython",
    "version": 3
   },
   "file_extension": ".py",
   "mimetype": "text/x-python",
   "name": "python",
   "nbconvert_exporter": "python",
   "pygments_lexer": "ipython3",
   "version": "3.10.7"
  },
  "orig_nbformat": 4,
  "vscode": {
   "interpreter": {
    "hash": "369f2c481f4da34e4445cda3fffd2e751bd1c4d706f27375911949ba6bb62e1c"
   }
  }
 },
 "nbformat": 4,
 "nbformat_minor": 2
}
