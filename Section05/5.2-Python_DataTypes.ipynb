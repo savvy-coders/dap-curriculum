{
 "cells": [
  {
   "cell_type": "markdown",
   "metadata": {},
   "source": [
    "# Data Types and Variables\n",
    "\n",
    "## Variable Names\n",
    "\n",
    "- Containers for storing data values\n",
    "- No command for declaring a variable\n",
    "- YOU create it as soon as you assign a value to it!\n",
    "\n"
   ]
  },
  {
   "cell_type": "code",
   "execution_count": null,
   "metadata": {},
   "outputs": [],
   "source": [
    "x = 8\n",
    "y = \"brothers\"\n",
    "print(x)\n",
    "print(y)\n"
   ]
  },
  {
   "cell_type": "markdown",
   "metadata": {},
   "source": [
    "## Multi Word Variable Names"
   ]
  },
  {
   "cell_type": "code",
   "execution_count": null,
   "metadata": {},
   "outputs": [],
   "source": [
    "fruits = ['apple', 'banana', 'cherry']\n",
    "a = b = c = fruits \n",
    "print(a)\n",
    "print(b)\n",
    "print(c)\n"
   ]
  },
  {
   "cell_type": "code",
   "execution_count": null,
   "metadata": {},
   "outputs": [],
   "source": [
    "g, h, i = \"Orange\", \"Banana\", \"Cherry\"\n",
    "\n",
    "print(g, h, i)\n",
    "\n",
    "g = h = i = \"Orange\"\n",
    "print(g, h, i)\n"
   ]
  },
  {
   "cell_type": "markdown",
   "metadata": {},
   "source": [
    "## Output and Variables"
   ]
  },
  {
   "cell_type": "code",
   "execution_count": null,
   "metadata": {},
   "outputs": [],
   "source": [
    "d = \"awesome\"\n",
    "print(\"Python is \" + d)\n",
    "\n",
    "d = \"Python is \"\n",
    "e = \"awesome\"\n",
    "f = d + e\n",
    "print(f) \n",
    "\n",
    "d = 5\n",
    "e= 10\n",
    "print(d+e)\n",
    "\n",
    "d = 5\n",
    "e = \"John\"\n",
    "print(d + e)\n"
   ]
  },
  {
   "cell_type": "markdown",
   "metadata": {},
   "source": [
    "## Global Variables\n",
    "\n",
    "Global variables hold their value throughout the lifetime of the program.\n"
   ]
  },
  {
   "cell_type": "code",
   "execution_count": null,
   "metadata": {},
   "outputs": [],
   "source": [
    "# Here is the global variable x\n",
    "j = \"awesome\"\n",
    "\n",
    "def myfunc1():\n",
    "    print(\"Python is \" + j)\n",
    "    \n",
    "myfunc1()\n",
    "print(\"g is =\", j)\n",
    "\n",
    "def myfunc2():\n",
    "    j = \"fantastic\"\n",
    "    k = \"amazing\"\n",
    "    print(\"Python is \" + j)\n",
    "    print(\"g in myFunc2 =\", j)\n",
    "    print(\"h in myFunc2 =\", k)\n",
    "\n",
    "myfunc2()\n",
    "\n",
    "# j is still awesome!\n",
    "print(\"j still =\", j)\n",
    "\n",
    "# But k does does not exist\n",
    "print(\"k outside myFunc2 =\", k)\n"
   ]
  },
  {
   "cell_type": "markdown",
   "metadata": {},
   "source": [
    "## Python Data Types\n",
    "\n",
    "| Example | Data Type |\n",
    "|---------|-----------|\n",
    "| x = “Hello World” | string (str) |\n",
    "| x = 20 | integer (int) |\n",
    "| x = 20.5 | float |\n",
    "| x = [“apple”, “banana”, “cherry”]\t| list |\n",
    "| x = (“apple”, “banana”, “cherry”) | tuple |\n",
    "| x = range(5) | range |\n",
    "| x = {“name” : “John”,  “age” : 36} | dictionary (dict) |\n",
    "| x = True | boolean |\n"
   ]
  },
  {
   "cell_type": "markdown",
   "metadata": {},
   "source": [
    "### Casting Data Types\n",
    "\n",
    "You can put the data type in front of a data element if you want to specify the data type.\n",
    "This is called **\"Casting\"**."
   ]
  },
  {
   "cell_type": "code",
   "execution_count": null,
   "metadata": {},
   "outputs": [],
   "source": [
    "# casting to a string\n",
    "h = str('hello, world!')\n",
    "print(h)\n",
    "\n",
    "# casting to an integer\n",
    "i = int(20.5)\n",
    "print(i)\n",
    "\n",
    "# casting to a float\n",
    "j = float(20)\n",
    "print(j)\n",
    "\n",
    "# casting to a string\n",
    "k = str(144.5)\n",
    "print(k)\n"
   ]
  },
  {
   "cell_type": "markdown",
   "metadata": {},
   "source": [
    "You can check the data type of a value by using `type()`\n"
   ]
  },
  {
   "cell_type": "code",
   "execution_count": null,
   "metadata": {},
   "outputs": [],
   "source": [
    "print(\"h is ...\", type(h))\n",
    "print(\"i is ...\", type(i))\n",
    "print(\"j is ...\", type(j))\n",
    "print(\"k is ...\", type(k))\n"
   ]
  },
  {
   "cell_type": "markdown",
   "metadata": {},
   "source": [
    "### Strings\n",
    "\n",
    "Strings are surrounded by either single quotation marks (`'string'`) or double quotation marks (\"string\").\n",
    "\n",
    "Multi-line strings are designated with trippe (3x) double or single quotes (`\"\"\" / \"\"\"`) or (`''' / '''`)\n",
    "\n",
    "You can assign a string to s variable `a = “Hello”`\n"
   ]
  },
  {
   "cell_type": "code",
   "execution_count": null,
   "metadata": {},
   "outputs": [],
   "source": [
    "# Below are examples of multiline strings\n",
    "\n",
    "\"\"\"\n",
    "this is a multi line string\n",
    "\"\"\"\n",
    "\n",
    "a = 'hello'\n",
    "\n",
    "'''\n",
    "Above, \"hello\" is assigned to the variable a\n",
    "'''\n"
   ]
  },
  {
   "cell_type": "markdown",
   "metadata": {},
   "source": [
    "#### To find the length of a string, use `len()`"
   ]
  },
  {
   "cell_type": "code",
   "execution_count": null,
   "metadata": {},
   "outputs": [],
   "source": [
    "# use len() to find the length of a string\n",
    "a = \"Hello World!\"\n",
    "print(\"The length of a is ... \", len(a))\n"
   ]
  },
  {
   "cell_type": "markdown",
   "metadata": {},
   "source": [
    "Counting in Python starts with 0. When counting the length of a string, it includes ALL spaces inside the quotation marks\n",
    "\n",
    "> Exception: when you are counting backwards -- then counting starts at `1`.\n"
   ]
  },
  {
   "cell_type": "markdown",
   "metadata": {},
   "source": [
    "#### Finding  character positions in a string"
   ]
  },
  {
   "cell_type": "code",
   "execution_count": null,
   "metadata": {},
   "outputs": [],
   "source": [
    "# counting characters in a string...\n",
    "L = \"lemonade shake\"\n",
    "\n",
    "print(\"Element 1 = \", L[0])\n",
    "print(\"Element 2 = \",  L[1])\n",
    "print(\"Element 6 = \",  L[5])\n",
    "\n",
    "print(\"Element -1 = \", L[-1])\n",
    "print(\"Element -2 = \",  L[-2])\n",
    "print(\"Element -6 = \",  L[-6])\n"
   ]
  },
  {
   "cell_type": "markdown",
   "metadata": {},
   "source": [
    "#### Finding something -- a subset -- in a string"
   ]
  },
  {
   "cell_type": "code",
   "execution_count": null,
   "metadata": {},
   "outputs": [],
   "source": [
    "# finding a sub-string within a string...\n",
    "\n",
    "txt = \"The best class in Saint Louis\"\n",
    "if \"best\" in txt:\n",
    "\tprint(\"Yes, 'best' is present.\")\n"
   ]
  },
  {
   "cell_type": "markdown",
   "metadata": {},
   "source": [
    "#### Slicing Strings:\n",
    "\n",
    "`Slicing` is the Cutting or Copying of parts form a string, and it returns a range of characters.\n",
    "\n",
    "- Ranges start at the number on the left but doesn’t include the number on the right.\n",
    "- When counting from the front, Indexes start at `0`\n",
    "- No number on the left means the count starts at the beginning of the string.\n",
    "- No number on the right means the count goes to the end of the string.\n",
    "- When counting from the back/end, the count starts at `1`\n",
    "- A minus sign means to start counting from the back `[-5]`\n"
   ]
  },
  {
   "cell_type": "code",
   "execution_count": null,
   "metadata": {},
   "outputs": [],
   "source": [
    "# Ranges start at the number on the left but doesn’t include the number on the right.\n",
    "s = \"Hello World!\"\n",
    "print(s[2:5])\n",
    "\n",
    "# Slicing a string From the start -- no numbers at the left\n",
    "s = \"Hello World!\"\n",
    "print(s[:5])\n",
    "\n",
    "# Slicing to the end -- no numbers to the right\n",
    "s = \"Hello World!\"\n",
    "print(s[2:])\n",
    "\n",
    "# Negative Indexing -- Count back 5 but DO NOT include the last 2 elements\n",
    "s = \"Hello World!\"\n",
    "print(s[-5:-2])\n"
   ]
  }
 ],
 "metadata": {
  "kernelspec": {
   "display_name": "Python 3.10.7 64-bit",
   "language": "python",
   "name": "python3"
  },
  "language_info": {
   "codemirror_mode": {
    "name": "ipython",
    "version": 3
   },
   "file_extension": ".py",
   "mimetype": "text/x-python",
   "name": "python",
   "nbconvert_exporter": "python",
   "pygments_lexer": "ipython3",
   "version": "3.10.7"
  },
  "orig_nbformat": 4,
  "vscode": {
   "interpreter": {
    "hash": "369f2c481f4da34e4445cda3fffd2e751bd1c4d706f27375911949ba6bb62e1c"
   }
  }
 },
 "nbformat": 4,
 "nbformat_minor": 2
}
