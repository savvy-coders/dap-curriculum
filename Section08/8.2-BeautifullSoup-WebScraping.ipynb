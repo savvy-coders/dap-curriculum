{
 "cells": [
  {
   "cell_type": "markdown",
   "id": "dfbdd9c7",
   "metadata": {},
   "source": [
    "# Data Analytics\n",
    "\n",
    "## BeautifulSoup Web Scraping\n",
    "\n",
    "We are going to work through examples of how to use the Python library BeautifulSoup to do web scraping and down loading of raw data.\n"
   ]
  }
 ],
 "metadata": {
  "kernelspec": {
   "display_name": "Python 3.10.7 64-bit",
   "language": "python",
   "name": "python3"
  },
  "language_info": {
   "codemirror_mode": {
    "name": "ipython",
    "version": 3
   },
   "file_extension": ".py",
   "mimetype": "text/x-python",
   "name": "python",
   "nbconvert_exporter": "python",
   "pygments_lexer": "ipython3",
   "version": "3.10.7"
  },
  "vscode": {
   "interpreter": {
    "hash": "369f2c481f4da34e4445cda3fffd2e751bd1c4d706f27375911949ba6bb62e1c"
   }
  }
 },
 "nbformat": 4,
 "nbformat_minor": 5
}
