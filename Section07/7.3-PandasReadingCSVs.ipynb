{
 "cells": [
  {
   "cell_type": "markdown",
   "metadata": {},
   "source": [
    "#### Reading data from and Excel sheet into a `DataFrame`:\n",
    "\n",
    "To be able to open Excel files we need to install the module `openpyxl`\n",
    "\n",
    "    --  pip install openpyxl\n",
    "\n",
    "The filepath to the XLS file is `./resources/publicassistance/xls_files_all/WICAgencies2014ytd.xls`. Use the `read_excel` method. The name of the sheet is `Pregnant Women Participating`. Don't do any cleanup."
   ]
  },
  {
   "cell_type": "code",
   "execution_count": null,
   "metadata": {},
   "outputs": [],
   "source": [
    "import pandas as pd\n",
    "\n",
    "athletes = pd.read_excel('./resources/sample_winterathletes.xlsx',\n",
    "                    sheet_name='Athletes')\n",
    "athletes"
   ]
  },
  {
   "cell_type": "markdown",
   "metadata": {},
   "source": [
    "#### Reading data from `SQL`  into a `DataFrame`:\n",
    "\n",
    "The filepath is `./resources/pitchforkDatabase.sqlite`. Use the `sqlite3` library. The name of the table is `artists`."
   ]
  },
  {
   "cell_type": "code",
   "execution_count": null,
   "metadata": {},
   "outputs": [],
   "source": [
    "import pandas as pd\n",
    "\n",
    "import sqlite3\n",
    "con = sqlite3.connect('./resources/PitchForkDatabase.sqlite')\n",
    "pfDB = pd.read_sql_query('select * from artists',con)\n",
    "pfDB"
   ]
  },
  {
   "cell_type": "code",
   "execution_count": null,
   "metadata": {},
   "outputs": [],
   "source": [
    "import pandas as pd\n",
    "green = pd.read_csv('./resources/GREENCOMPUTERS500.csv',index_col=0)\n",
    "green"
   ]
  }
 ],
 "metadata": {
  "kernelspec": {
   "display_name": "Python 3.10.7 64-bit",
   "language": "python",
   "name": "python3"
  },
  "language_info": {
   "codemirror_mode": {
    "name": "ipython",
    "version": 3
   },
   "file_extension": ".py",
   "mimetype": "text/x-python",
   "name": "python",
   "nbconvert_exporter": "python",
   "pygments_lexer": "ipython3",
   "version": "3.10.7"
  },
  "orig_nbformat": 4,
  "vscode": {
   "interpreter": {
    "hash": "369f2c481f4da34e4445cda3fffd2e751bd1c4d706f27375911949ba6bb62e1c"
   }
  }
 },
 "nbformat": 4,
 "nbformat_minor": 2
}
