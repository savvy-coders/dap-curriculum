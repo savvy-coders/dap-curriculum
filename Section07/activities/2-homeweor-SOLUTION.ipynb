{
 "cells": [
  {
   "cell_type": "code",
   "execution_count": null,
   "metadata": {},
   "outputs": [],
   "source": [
    "# Concatenate, Sort, Reshape, Resort\n",
    "import numpy as np\n",
    "\n",
    "aa = np.array([[25, 16]])\n",
    "bb = np.array([[11, 2], [13, 4]])\n",
    "cc = np.array([[7, 81], [5, 6], [11, 12]])\n",
    "\n",
    "newArray = np.concatenate((aa, bb, cc), axis=0)\n",
    "# print(\"\\nnewArray ...\\n\", newArray)\n",
    "\n",
    "sortedArray = np.sort(newArray)\n",
    "# print (\"\\nsortedArray ...\\n\", sortedArray)\n",
    "\n",
    "newShape = sortedArray.reshape(2, 2, 3)\n",
    "# print (\"\\nNew shape ...\\n\", newShape)\n",
    "\n",
    "resortedArray = np.sort(newShape)\n",
    "# print (\"\\nresortedArray ...\\n\", resortedArray)\n"
   ]
  },
  {
   "cell_type": "code",
   "execution_count": null,
   "metadata": {},
   "outputs": [],
   "source": [
    "# Combined, Sort, Slice\n",
    "import numpy as np \n",
    "\n",
    "one = ([10, 11, 12, 13, 14, 15, 16, 17])\n",
    "two = ([20, 21, 22, 23, 24, 25, 26, 27])\n",
    "three = ([ 0, 1, 2, 3, 4, 5, 6, 7])\n",
    "\n",
    "comboArray = np.concatenate((one, two, three), axis=0)\n",
    "print(\"combo ...\", comboArray)\n",
    "\n",
    "comboArray = np.sort(comboArray)\n",
    "print(\"sorted ...\", comboArray)\n",
    "\n",
    "slice1 = comboArray[1]\n",
    "slice2 = comboArray[2:]\n",
    "slice3 = comboArray[3:14]\n",
    "slice4 = comboArray[-6:]\n",
    "slice5 = comboArray[:-10]\n",
    "slice6 = comboArray[16::2]\n",
    "slice7 = comboArray[::-5]\n",
    "\n",
    "print(\"\\nslice1 ...\", slice1)\n",
    "print(\"\\nslice2 ...\", slice2)\n",
    "print(\"\\nslice3 ...\", slice3)\n",
    "print(\"\\nslice4 ...\", slice4)\n",
    "print(\"\\nslice5 ...\", slice5)\n",
    "print(\"\\nslice6 ...\", slice6)\n",
    "print(\"\\nslice7 ...\", slice7)\n"
   ]
  },
  {
   "cell_type": "code",
   "execution_count": 31,
   "metadata": {},
   "outputs": [
    {
     "name": "stdout",
     "output_type": "stream",
     "text": [
      "\n",
      "arrays ar1 * ar2 ...\n",
      " [[[   0.      0.      0.  ]\n",
      "  [ 170.    700.    107.  ]]\n",
      "\n",
      " [[ 340.   1400.    214.  ]\n",
      "  [ 510.   2100.    321.  ]]\n",
      "\n",
      " [[ 680.   1680.    428.  ]\n",
      "  [ 255.   1050.    272.85]]]\n"
     ]
    }
   ],
   "source": [
    "# Broadcast addition, division, multiplication \n",
    "# for these 2 arrays\n",
    "import numpy as np \n",
    "\n",
    "ar1 = np.array([[[ 0.0,  0.0,  0.0], [10.0, 10.0, 10.0]],\n",
    "                    [[20.0, 20.0, 20.0], [30.0, 30.0, 30.0]],\n",
    "                    [[40.0, 24.0, 40.0], [15.0, 15.0, 25.5]]])\n",
    "\n",
    "ar2 = np.array([[17.0, 70.0, 10.7]])\n",
    "\n",
    "# print(\"arrays ar1 + ar2 ...\\n\", ar1 + ar2)\n",
    "# print(\"\\narrays ar1 / ar2 ...\\n\", ar1 / ar2)\n",
    "print(\"\\narrays ar1 * ar2 ...\\n\", ar1 * ar2)\n"
   ]
  }
 ],
 "metadata": {
  "kernelspec": {
   "display_name": "Python 3.10.7 64-bit",
   "language": "python",
   "name": "python3"
  },
  "language_info": {
   "codemirror_mode": {
    "name": "ipython",
    "version": 3
   },
   "file_extension": ".py",
   "mimetype": "text/x-python",
   "name": "python",
   "nbconvert_exporter": "python",
   "pygments_lexer": "ipython3",
   "version": "3.10.7"
  },
  "orig_nbformat": 4,
  "vscode": {
   "interpreter": {
    "hash": "369f2c481f4da34e4445cda3fffd2e751bd1c4d706f27375911949ba6bb62e1c"
   }
  }
 },
 "nbformat": 4,
 "nbformat_minor": 2
}
