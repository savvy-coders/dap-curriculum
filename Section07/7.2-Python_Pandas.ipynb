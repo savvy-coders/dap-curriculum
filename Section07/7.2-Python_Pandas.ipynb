{
 "cells": [
  {
   "cell_type": "markdown",
   "metadata": {},
   "source": [
    "# Data Analytics\n",
    "\n",
    "![Python and Pandas!](./images/PythonAndPandas.png)\n",
    "\n",
    "## We are going to learn about ...\n",
    "\n",
    "- What is Pandas\n",
    "- Pandas & NumPy\n",
    "- What Pandas can do\n",
    "- Pandas DataFrames & Series\n",
    "\n",
    "<br>\n",
    "\n",
    "---\n"
   ]
  },
  {
   "cell_type": "markdown",
   "metadata": {},
   "source": [
    "## What is Pandas\n",
    "\n",
    "- An open-source Python package that is most widely used for data science/data analysis and machine learning tasks. \n",
    "- Built on top of NumPy which provides support for multi-dimensional arrays.\n",
    "- References both “Panel Data” and “Python Data Analysis”\n",
    "- The name Pandas is derived from the word \"Panel Data\"\n",
    "- Created by Wes McKinney in 2008\n",
    "\n",
    "## Pandas & NumPy\n",
    "\n",
    "- NumPy is a library that adds support for large, multi-dimensional arrays and matrices, along with a large collection of high-level mathematical functions to operate on these arrays\n",
    "- Pandas is a high-level data manipulation tool that is built on the NumPy package\n",
    "- Pandas offers an in-memory 2d table object called a DataFrame\n",
    "- A DataFrame is structured like a table or spreadsheet -- with rows and columns\n",
    "- There are a few functions that exist in NumPy that we use specifically on Pandas DataFrames\n",
    "- Just as the \"ndarray\" is the foundation of NumPy, the \"Series\" is the core object of Pandas\n",
    "- NumPy consumes less memory than Pandas, and is faster than Pandas\n",
    "- These two libraries are the best libraries for data science applications\n",
    "- Pandas mainly works with tabular data, whereas NumPy works with numerical data\n",
    "\n",
    "## Pandas & Jupyter Notebooks\n",
    "\n",
    "Jupyter Notebooks offer a good environment for using pandas to do data exploration and modeling, but pandas can also be used in text editors just as easily.\n",
    "\n",
    "Jupyter Notebooks give us the ability to execute code in a particular cell as opposed to running the entire file. This saves a lot of time when working with large datasets and complex transformations. \n",
    "\n",
    "Notebooks also provide an easy way to visualize pandas’ DataFrames and plots.\n"
   ]
  },
  {
   "cell_type": "markdown",
   "metadata": {},
   "source": [
    "## What can Pandas do?\n",
    "\n",
    "Pandas can perform five significant steps required for processing and analysis of data, irrespective of the origin of the data, -- load, manipulate, prepare, model, and analyze.\n",
    "\n",
    "What’s cool about Pandas is that it takes data (like a CSV or TSV file, or a SQL database) and creates a Python object with rows and columns called a 'data frame' that looks very similar to table in statistical software (think Excel).\n",
    "\n",
    "In fact, with Pandas, you can do everything that makes world-leading data scientists vote Pandas as the best data analysis and manipulation Python tool available.\n",
    "\n",
    "### Pandas can do ...\n",
    "\n",
    "|    |    |\n",
    "|----|----|\n",
    "| Data Cleansing | Data fill |\n",
    "| Data normalization | Merges and joins |\n",
    "| Data visualization | Statistical analysis |\n",
    "| Data inspection | Loading and saving data |\n",
    "\n",
    "<br>"
   ]
  },
  {
   "cell_type": "markdown",
   "metadata": {},
   "source": [
    "### DataFrames & Series\n",
    "\n",
    "DataFrames and Series are quite similar in that many operations that you can do with one you can do with the other, such as filling in null values and calculating the mean\n",
    "\n",
    "![Pandas Series and DataFrames](./images/Pandas_series-and-dataframe.png)\n",
    "\n",
    "#### Pandas Series\n",
    "\n",
    "- A Pandas Series is like a column in a table\n",
    "- It is a one-dimensional array holding data of any type\n",
    "- If nothing else is specified, the values of the series are labeled with their index numbers -- first value has index 0, second value has index 1 etc.\n",
    "- These labels can be used to access specified values in the series\n",
    "- With the index argument, you can name your own labels for the indexes of your series\n",
    "- When you have created labels, you can access an item by referring to the label\n",
    "- You can also use a key/value object, like a dictionary, when creating a Series\n",
    "- You can create a DataFrame from two Series\n",
    "\n",
    "#### Pandas DataFrames\n",
    "\n",
    "- A Pandas DataFrame is a 2-D data structure, like a 2 dimensional array, or a table with rows and columns\n",
    "- Pandas use the loc attribute to return one or more specified row(s)\n",
    "- With the index argument, you can name your own indexes\n",
    "- Use the named index in the loc attribute to return the specified row(s)\n",
    "- If your data sets are stored in a file, Pandas can load them into a DataFrame\n"
   ]
  },
  {
   "cell_type": "markdown",
   "metadata": {},
   "source": [
    "\n",
    "---\n",
    "\n",
    "## Installing and Using Pandas\n",
    "\n",
    "**Remember: Pandas is a Module.**\n",
    "\n",
    "You have to install it first, and NumPy is required:\n",
    "\n",
    "```python\n",
    "    pip install pandas\n",
    "```\n",
    "\n",
    "Then you have to import it at the beginning of every code file to use it:\n",
    "\n",
    "```python\n",
    "    import numpy as np \n",
    "    import pandas as pd\n",
    "```\n"
   ]
  },
  {
   "cell_type": "markdown",
   "metadata": {},
   "source": [
    "Getting started ..."
   ]
  },
  {
   "cell_type": "markdown",
   "metadata": {},
   "source": [
    "Working with Series..."
   ]
  },
  {
   "cell_type": "markdown",
   "metadata": {},
   "source": [
    "Working with Dataframes ..."
   ]
  }
 ],
 "metadata": {
  "kernelspec": {
   "display_name": "Python 3.10.7 64-bit",
   "language": "python",
   "name": "python3"
  },
  "language_info": {
   "codemirror_mode": {
    "name": "ipython",
    "version": 3
   },
   "file_extension": ".py",
   "mimetype": "text/x-python",
   "name": "python",
   "nbconvert_exporter": "python",
   "pygments_lexer": "ipython3",
   "version": "3.10.7"
  },
  "orig_nbformat": 4,
  "vscode": {
   "interpreter": {
    "hash": "369f2c481f4da34e4445cda3fffd2e751bd1c4d706f27375911949ba6bb62e1c"
   }
  }
 },
 "nbformat": 4,
 "nbformat_minor": 2
}
