{
 "cells": [
  {
   "cell_type": "markdown",
   "metadata": {},
   "source": [
    "# Data Analytics\n",
    "\n",
    "![Python and Pandas!](./images/PythonAndPandas.png)\n",
    "\n",
    "## We are going to learn about ...\n",
    "\n",
    "- What is Pandas\n",
    "- Pandas & NumPy\n",
    "- What Pandas can do\n",
    "- Pandas DataFrames & Series\n",
    "\n",
    "<br>\n",
    "\n",
    "---\n"
   ]
  },
  {
   "cell_type": "markdown",
   "metadata": {},
   "source": [
    "## What is Pandas\n",
    "\n",
    "- An open-source Python package that is most widely used for data science/data analysis and machine learning tasks. \n",
    "- Built on top of NumPy which provides support for multi-dimensional arrays.\n",
    "- References both “Panel Data” and “Python Data Analysis”\n",
    "- The name Pandas is derived from the word \"Panel Data\"\n",
    "- Created by Wes McKinney in 2008\n",
    "\n",
    "## Pandas & NumPy\n",
    "\n",
    "- NumPy is a library that adds support for large, multi-dimensional arrays and matrices, along with a large collection of high-level mathematical functions to operate on these arrays\n",
    "- Pandas is a high-level data manipulation tool that is built on the NumPy package\n",
    "- Pandas offers an in-memory 2d table object called a DataFrame\n",
    "- A DataFrame is structured like a table or spreadsheet -- with rows and columns\n",
    "- There are a few functions that exist in NumPy that we use specifically on Pandas DataFrames\n",
    "- Just as the \"ndarray\" is the foundation of NumPy, the \"Series\" is the core object of Pandas\n",
    "- NumPy consumes less memory than Pandas, and is faster than Pandas\n",
    "- These two libraries are the best libraries for data science applications\n",
    "- Pandas mainly works with tabular data, whereas NumPy works with numerical data\n",
    "- \n",
    "\n",
    "## What can Pandas do?\n",
    "\n",
    "Pandas can perform five significant steps required for processing and analysis of data, irrespective of the origin of the data, -- load, manipulate, prepare, model, and analyze.\n",
    "\n",
    "In fact, with Pandas, you can do everything that makes world-leading data scientists vote Pandas as the best data analysis and manipulation tool available.\n",
    "\n",
    "### Pandas can do ...\n",
    "\n",
    "|    |    |\n",
    "|----|----|\n",
    "| Data Cleansing | Data fill |\n",
    "| Data normalization | Merges and joins |\n",
    "| Data visualization | Statistical analysis |\n",
    "| Data inspection | Loading and saving data |\n",
    "\n"
   ]
  },
  {
   "cell_type": "markdown",
   "metadata": {},
   "source": [
    "### Installing and Using Pandas\n",
    "\n",
    "**Remember: Pandas is a Module.**\n",
    "\n",
    "You have to install it first:\n",
    "\n",
    "```python\n",
    "    pip install pandas\n",
    "```\n",
    "\n",
    "Then you have to import it at the beginning of every code file to use it:\n",
    "\n",
    "```python\n",
    "    import pandas as pd\n",
    "```\n"
   ]
  }
 ],
 "metadata": {
  "kernelspec": {
   "display_name": "Python 3.10.7 64-bit",
   "language": "python",
   "name": "python3"
  },
  "language_info": {
   "codemirror_mode": {
    "name": "ipython",
    "version": 3
   },
   "file_extension": ".py",
   "mimetype": "text/x-python",
   "name": "python",
   "nbconvert_exporter": "python",
   "pygments_lexer": "ipython3",
   "version": "3.10.7"
  },
  "orig_nbformat": 4,
  "vscode": {
   "interpreter": {
    "hash": "369f2c481f4da34e4445cda3fffd2e751bd1c4d706f27375911949ba6bb62e1c"
   }
  }
 },
 "nbformat": 4,
 "nbformat_minor": 2
}
