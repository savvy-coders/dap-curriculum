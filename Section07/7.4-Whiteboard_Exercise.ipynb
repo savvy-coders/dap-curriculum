{
 "cells": [
  {
   "cell_type": "markdown",
   "metadata": {},
   "source": [
    "# Question 1\n",
    "\n",
    "Write a JavaScript function that takes in two integers and returns their sum, unless the two integers are equal.\n",
    "\n",
    "If the two integers are equal, then return three times their sum.\n",
    "\n",
    "Example:\n",
    "```\n",
    "sum2Integers(10, 20) // --> 30\n",
    "sum2Integers(10, 10) // --> 60\n",
    "```"
   ]
  },
  {
   "cell_type": "markdown",
   "metadata": {},
   "source": [
    "# Question 2\n",
    "\n",
    "Write a JavaScript function that takes in integers and returns the integer with the highest value.\n",
    "\n",
    "(Do NOT use max()!!!)\n",
    "\n",
    "Example:\n",
    "```\n",
    "findHighest(5, 8, 1) // --> 8\n",
    "findHighest([4, 1, -3]) // --> 4\n",
    "```\n",
    "Take note of the argument data type options."
   ]
  },
  {
   "cell_type": "markdown",
   "metadata": {},
   "source": [
    "# Question 3\n",
    "\n",
    "Write a function that generates a random number between 0-10.\n",
    "\n",
    "If the number is greater than 5, log “{number} is greater than five!”.\n",
    "\n",
    "If it is less than 5, log “{number} is less than five!”\n",
    "\n",
    "Example:\n",
    "```\n",
    "numCheck()\n",
    "```"
   ]
  },
  {
   "cell_type": "markdown",
   "metadata": {},
   "source": [
    "# Question 4\n",
    "\n",
    "Write a function that counts the number of vowels in a string.\n",
    "\n",
    "The vowels are \"a\", \"e\", \"i\", \"o\" & \"u\"\n",
    "\n",
    "Example:\n",
    "```\n",
    "countVowels('hello') // --> 2\n",
    "countVowels('why') // --> 0\n",
    "```"
   ]
  },
  {
   "cell_type": "markdown",
   "metadata": {},
   "source": [
    "# Question 5\n",
    "\n",
    "Write a function that determines if a string is a palindrome.\n",
    "\n",
    "A palindrome is a string that is the same forward and backwards.\n",
    "\n",
    "Example:\n",
    "```\n",
    "isPalindrome('racecar') // --> true\n",
    "isPalindrome('table') // --> false\n",
    "```"
   ]
  }
 ],
 "metadata": {
  "kernelspec": {
   "display_name": "Python 3.10.8 64-bit (microsoft store)",
   "language": "python",
   "name": "python3"
  },
  "language_info": {
   "name": "python",
   "version": "3.10.8"
  },
  "orig_nbformat": 4,
  "vscode": {
   "interpreter": {
    "hash": "2b49d4a1b0bb357609d4321c464d338065ea01cc6a39a6556c610c8eb9426d1b"
   }
  }
 },
 "nbformat": 4,
 "nbformat_minor": 2
}
