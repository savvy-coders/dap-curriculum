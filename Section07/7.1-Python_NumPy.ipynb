{
 "cells": [
  {
   "cell_type": "markdown",
   "metadata": {},
   "source": [
    "# Data Analytics\n",
    "\n",
    "## Python NumPy, and Broadcasting\n",
    "\n",
    "We are going to learn about ...\n",
    "\n",
    "- More NumPy Arrays\n",
    "- NumPy and Broadcasting\n",
    "\n",
    "<br>\n",
    "\n",
    "---\n"
   ]
  },
  {
   "cell_type": "markdown",
   "metadata": {},
   "source": [
    "<br>\n",
    "\n",
    "### What we learned ...\n",
    "\n",
    "**NumPy** (_Numerical Python_) is an open-source library for the Python programming language. It is used for scientific computing and working with arrays.\n",
    "\n",
    "About NumPy Arrays ...\n",
    "- Are usually fixed-size containers of items of the same type and size\n",
    "- A grid of values that contains information about raw data, how to locate an element, and how to interpret it\n",
    "- The elements are all the same, referred to as the array `dtype`\n",
    "- The number of dimensions and items in an array is defined by its shape. \n",
    "- The shape of an array is a tuple of non-negative integers that specify the sizes of each dimension.\n",
    "- The rank of the array is the number of its `dimensions`\n",
    "\n",
    "### Useful NumPy keywords\n",
    "\n",
    "- **Ndarray** == N-dimensional array\n",
    "- **1-D** == one dimensional array\n",
    "- **2-D** == two-dimensional array\n",
    "- **3-D** == three-dimensional array\n",
    "- **Vector** == an array with a single dimension\n",
    "- **Matrix** == an array with two dimensions\n",
    "- **Tensor** == an array with 3+ dimensions\n",
    "- **Dimensions** == the number of axes of an array\n",
    "\n",
    "<br>\n",
    "\n",
    "![NumPy Multi-Dimensional Arrays](./images/numpy_array_t.png)\n",
    "\n",
    "<br>\n"
   ]
  },
  {
   "cell_type": "markdown",
   "metadata": {},
   "source": [
    "#### **Install NumPy**\n",
    "\n",
    "With Pip setup on your system, you can use the command line for installing NumPy.\n",
    "\n",
    "Install NumPy with Python by typing:\n",
    "\n",
    "```bash\n",
    "    pip install numpy\n",
    "```\n",
    "\n",
    "#### **Importing NumPy into your projects**\n",
    "\n",
    "To use NumPy we need to import it like any other modules\n",
    "You can import 2 ways\n",
    "\n",
    "```python\n",
    "    import numpy\n",
    "    # OR ...\n",
    "    import numpy as np\n",
    "\n",
    "```\n",
    "\n",
    "#### **Creating NumPy Arrays**\n"
   ]
  },
  {
   "cell_type": "code",
   "execution_count": null,
   "metadata": {},
   "outputs": [],
   "source": [
    "# creating Numpy Arrays\n",
    "import numpy as np\n",
    "\n",
    "a1 = np.array([1, 2, 3, 4, 5, 6])\n",
    "print(a1)\n",
    "\n",
    "a2 = np.array([[1, 2, 3, 4], [5, 6, 7, 8], [9, 10, 11, 12]])\n",
    "print(a2)\n"
   ]
  },
  {
   "cell_type": "code",
   "execution_count": null,
   "metadata": {},
   "outputs": [],
   "source": [
    "# creating arrays filled with eros or Ones\n",
    "import numpy as np\n",
    "\n",
    "# build an array with 4x zeros\n",
    "b = np.zeros(4)\n",
    "print(\"b ...\", b)\n",
    "\n",
    "# build an array with 3x ones\n",
    "c = np.ones(3)\n",
    "print(\"c ...\", c)\n",
    "\n",
    "# create an empty array\n",
    "d = np.empty(3)\n",
    "print(\"d ...\", d)\n"
   ]
  },
  {
   "cell_type": "markdown",
   "metadata": {},
   "source": [
    "#### **We can create arrays with a range of elements**:"
   ]
  },
  {
   "cell_type": "code",
   "execution_count": null,
   "metadata": {},
   "outputs": [],
   "source": [
    "import numpy as np\n",
    "\n",
    "# create an array with numbers from 0 upto, but not including 5\n",
    "e = np.arange(5)\n",
    "print(\"e =\", e)\n",
    "\n",
    "# Contains `a range`` of evenly spaced intervals\n",
    "# between 1st num, and 2nd num, in steps of 3rd num\n",
    "f = np.arange(2, 9, 2)\n",
    "print(\"f ...\",  f)\n",
    "\n",
    "# create an array with linearly spaced values at a specified interval\n",
    "# range from 0 up to 14 in 5 intervals\n",
    "g = np.linspace(0, 14, num=5)\n",
    "print(\"g ...\", g)\n"
   ]
  },
  {
   "cell_type": "markdown",
   "metadata": {},
   "source": [
    "#### **Specifying the data type of an array**"
   ]
  },
  {
   "cell_type": "code",
   "execution_count": null,
   "metadata": {},
   "outputs": [],
   "source": [
    "# explicitly specify which data type -- dtype --  to use\n",
    "import numpy as np\n",
    "\n",
    "h = np.ones(2, dtype=np.int64)\n",
    "print(h)\n"
   ]
  },
  {
   "cell_type": "markdown",
   "metadata": {},
   "source": [
    "#### **Sorting NumPy arrays**\n",
    "\n",
    "The NumPy nd-array object has a function called `sort()`, that will sort a specified array. \n",
    "\n",
    "Due to speed and memory management during sort, NumPy's `.sort()` function is much more efficient and useful for data analytics than the build-in Python sort, and the array sort methods.\n",
    "\n",
    "**Note**: The NumPy `.sort()` method returns a sorted copy of the array, leaving the original array unchanged.\n",
    "\n",
    "One can sort al sort of different NumPy arrays -- arrays of strings, or any other data type:\n"
   ]
  },
  {
   "cell_type": "code",
   "execution_count": null,
   "metadata": {},
   "outputs": [],
   "source": [
    "import numpy as np\n",
    "\n",
    "# sorting a 1-D array\n",
    "arr1 = np.array([2, 1, 5, 3, 7, 4, 6, 8])\n",
    "i1 = np.sort(arr1)\n",
    "print(i1)\n",
    "\n",
    "# Sort a 2-D array:\n",
    "# on a 2-D array both tuples will be sorted\n",
    "arr2 = np.array([[3, 2, 4], [5, 0, 1]])\n",
    "print(np.sort(arr2))\n",
    "\n",
    "# Sort the array alphabetically:\n",
    "arr3 = np.array(['banana', 'cherry', 'apple'])\n",
    "print(np.sort(arr3))\n",
    "\n",
    "# Sort a boolean array:\n",
    "arr4 = np.array([True, False, True])\n",
    "print(np.sort(arr4))\n"
   ]
  },
  {
   "cell_type": "markdown",
   "metadata": {},
   "source": [
    "#### **`argsort()`**\n",
    "A related function is `argsort()`, which instead returns an array of the **INDEXES** of the sorted elements.\n",
    "\n",
    "The first element of this result gives the index of the smallest element, the second value gives the index of the second smallest, and so on. \n",
    "\n",
    "These indices can then be used (via fancy indexing) to construct the sorted data array if desired."
   ]
  },
  {
   "cell_type": "code",
   "execution_count": null,
   "metadata": {},
   "outputs": [],
   "source": [
    "# argsort returns the Index Numbers of elements in order\n",
    "import numpy as np\n",
    "xx = np.array([2, 1, 4, 3, 5])\n",
    "ii12 = np.argsort(xx)\n",
    "print(ii12)\n"
   ]
  },
  {
   "cell_type": "markdown",
   "metadata": {},
   "source": [
    "#### **`lexsort()`**\n",
    "\n",
    "NumPy `lexsort()` perform an indirect stable sort using a sequence of keys.\n",
    "\n",
    "        Syntax:-` numpy.lexsort(keys, axis=- 1)`\n",
    "\n",
    "This function is used for sorting using multiple sort keys, involving more than one array. \n",
    "\n",
    "For example, we first sort data in Column A and then sort the values in column B. \n",
    "\n",
    "In the below example we take two arrays representing column A and column B. \n",
    "\n",
    "On applying the `lexsort()` function for sorting first by column A and then by column B we get the result of sorting returned as an array containing the indices of the elements in column A(like argsort). \n",
    "\n",
    "This sort order is then applied to both data columns."
   ]
  },
  {
   "cell_type": "code",
   "execution_count": null,
   "metadata": {},
   "outputs": [],
   "source": [
    "import numpy as np\n",
    "\n",
    "# First column -- will act as Indexes of our data\n",
    "colA = [2,5,1,8,1]\n",
    "# Second column -- the 2nd column of our data\n",
    "colB = [9,0,3,2,0]\n",
    "\n",
    "# Sort by ColA and then by colB\n",
    "sorted_index = np.lexsort((colB,colA))\n",
    "print(\"Here is the result of the col A sort\")\n",
    "print(\"Sorted Index ...\", sorted_index)\n",
    "\n",
    "#print the result showing the column values as pairs\n",
    "listAB = [(colA[i],colB[i]) for i in sorted_index]\n",
    "print(\"\\nCombined column values by index list ...\\n\", listAB)\n"
   ]
  },
  {
   "cell_type": "markdown",
   "metadata": {},
   "source": [
    "#### Other sort Methods\n",
    "\n",
    "There are other sort methods like the `searchsorted()` method and the `partition()` methods. You can read about these in the NumPy documentation at ... [NumPy - Sorting, searching, and counting](https://numpy.org/doc/stable/reference/routines.sort.html)"
   ]
  },
  {
   "cell_type": "markdown",
   "metadata": {},
   "source": [
    "#### **NumPy Concatenation**\n",
    "\n",
    "Concatenation refers to joining. This function is used to join two or many more arrays of the same shape along a specified axis. \n",
    "\n",
    "The `concatenation()` function takes the following parameters.\n",
    "\n",
    "        Syntax: -- numpy.concatenate((a1, a2, ...), axis)\n",
    "\n",
    "- **a1,a2, ...**   represents a sequence of arrays of the _same type_\n",
    "- **axis**    represents the axis along which arrays have to be joined. _Default is axis 0_"
   ]
  },
  {
   "cell_type": "code",
   "execution_count": null,
   "metadata": {},
   "outputs": [],
   "source": [
    "# NumPy concatenation\n",
    "import numpy as np\n",
    "\n",
    "arrayA= np.array([1, 2, 3, 4])\n",
    "arrayB = np.array([5, 6, 7, 8])\n",
    "\n",
    "arrCombo = np.concatenate((arrayA, arrayB))\n",
    "print(\"Print arrCombo ...\", arrCombo)\n",
    "\n",
    "\n",
    "# More Concatenation\n",
    "arrayX = np.array([[1, 2], [3, 4]])\n",
    "arrayY = np.array([[5, 6]])\n",
    "arrayZ = np.array([[7, 8], [9, 10], [11, 12]])\n",
    "\n",
    "arrayC = np.concatenate((arrayX, arrayY, arrayZ), axis=0)\n",
    "print(\"\\nAnd arrayC ...\\n\", arrayC)\n"
   ]
  },
  {
   "cell_type": "markdown",
   "metadata": {},
   "source": [
    "#### **Knowing shape and size of arrays**\n",
    "\n",
    "Remember we learned that in NumPy arrays ...\n",
    "- The elements are all the same, referred to as the array `dtype`\n",
    "- The number of `dimensions` and items in an array defines its `SHAPE`\n",
    "- The shape is a _**tuple** of non-negative integers_ that specify the `sizes` of each `dimension`\n",
    "- The rank of the array is the number of its `dimensions`\n",
    "\n",
    "You can get the number of dimensions, shape (length of each dimension), and size (number of all elements) of the NumPy array with `.ndim`, `.shape`, and `.size` attributes of numpy.ndarray. \n",
    "\n",
    "The built-in function `len()` returns the size of the first dimension."
   ]
  },
  {
   "cell_type": "code",
   "execution_count": null,
   "metadata": {},
   "outputs": [],
   "source": [
    "# Example of discovering the shape and size of a Numpy Array\n",
    "import numpy as np\n",
    "\n",
    "array_example = np.array([ [ [0, 1, 2, 3], [4, 5, 6, 7] ],\n",
    "                            [ [0, 1, 2, 3], [4, 5, 6, 7] ],\n",
    "                            [[0 ,1 ,2, 3], [4, 5, 6, 7] ] ])\n",
    "\n",
    "exDimension = array_example.ndim\n",
    "print(\"Array dimensions ...\", exDimension)  # 3 (dimensions)\n",
    "\n",
    "exSize = array_example.size\n",
    "print(\"Array size and length ...\", exSize)  # 2,4 (2 axis w/ length of 4)\n",
    "\n",
    "exShape = array_example.shape\n",
    "print(\"Array shape ...\", exShape)   # 3, 2, 4\n"
   ]
  },
  {
   "cell_type": "markdown",
   "metadata": {},
   "source": [
    "**NOTE: -** In the case of a two-dimensional array, shape is (number of rows, number of columns). \n",
    "\n",
    "If you only want to get either the number of rows or number of columns, you can get the shape of each element of the tuple."
   ]
  },
  {
   "cell_type": "code",
   "execution_count": null,
   "metadata": {},
   "outputs": [],
   "source": [
    "# Example of discovering the shape and size of a Numpy Array\n",
    "import numpy as np\n",
    "\n",
    "# build an array\n",
    "a_2d = np.arange(12).reshape((3, 4))\n",
    "print(\"The a_2d array ...\\n\", a_2d)\n",
    "\n",
    "print(\"\\nNumber of dimension ...\", a_2d.ndim)\n",
    "print(\"number of rows ...\", a_2d.shape[0])\n",
    "print(\"number of columns ...\", a_2d.shape[1])\n"
   ]
  },
  {
   "cell_type": "markdown",
   "metadata": {},
   "source": [
    "#### **Unpacking array Tuples**\n",
    "\n",
    "You can also unpack array tuples and assign them to different variables.\n",
    "\n",
    "In Python, you can assign elements of a tuple or list to multiple variables. It is called **_sequence unpacking_**.\n",
    "\n",
    "If you write variables on the left side separated by commas , then elements of a tuple (or list) on the right side are assigned to each variable. \n",
    "\n",
    "The following examples use tuples, but the same is true for lists:"
   ]
  },
  {
   "cell_type": "code",
   "execution_count": null,
   "metadata": {},
   "outputs": [],
   "source": [
    "# Assigning variables using multi assignment\n",
    "tt = ([ [ [0, 1, 2, 3], [4, 5, 6, 7] ],\n",
    "        [ [0, 1, 2, 3], [4, 5, 6, 7] ],\n",
    "        [[0 ,1 ,2, 3], [4, 5, 6, 7] ] ])\n",
    "\n",
    "a, b, c = tt\n",
    "\n",
    "print(\"a = \", a)\n",
    "print(\"b = \", b)\n",
    "print(\"c = \", c)\n",
    "print(\"The data type of c ...\", type(c))\n",
    "\n",
    "# further unpack the a variable\n",
    "a0, a1 = a\n",
    "print(\"\\nFurther unpacking a ...\")\n",
    "print(\"a0 = \", a0)\n",
    "print(\"a1 = \", a1)\n",
    "print(\"The data type of a1 ...\", type(a1))\n"
   ]
  },
  {
   "cell_type": "markdown",
   "metadata": {},
   "source": [
    "#### **Unpack a nested tuple and list**\n",
    "\n",
    "You can also unpack a nested tuple or list. If you want to expand the inner elements, enclose the variable with `()` or `[]`."
   ]
  },
  {
   "cell_type": "code",
   "execution_count": null,
   "metadata": {},
   "outputs": [],
   "source": [
    "# Unpacking a series of nested elements\n",
    "example = ([ [ [0, 1, 2, 3], [14, 15, 16, 17] ],\n",
    "        [ [20, 21, 22, 23], [34, 35, 36, 37] ],\n",
    "        [[40 ,41 ,42, 43], [54, 55, 56, 57] ] ])\n",
    "\n",
    "[[[a,b,c,d], [e,f,g,h]],[[i,j,k,l],[m,n,o,p]],[[q,r,s,t],[u,v,w,x]]] = example\n",
    "\n",
    "print(a, b, c, d)\n",
    "print(i, j, k, l)\n",
    "print(q, r, s, t, u, v, w, x)\n",
    "\n",
    "# using the overflow astrix \n",
    "[[[aa,bb,cc,dd], [ee,ff,gg,hh]], *zz] = example\n",
    "print(\"\\nThe variables aa, bb, cc, etc...\")\n",
    "print(aa,bb,cc,dd,ee,ff,gg, hh)\n",
    "print(\"\\nThe collective variable zz ...\")\n",
    "print(zz)\n"
   ]
  },
  {
   "cell_type": "markdown",
   "metadata": {},
   "source": [
    "#### **Reshaping NumPy Arrays**\n",
    "\n"
   ]
  },
  {
   "cell_type": "markdown",
   "metadata": {},
   "source": [
    "#### **Indexing and Slicing**\n",
    "\n"
   ]
  },
  {
   "cell_type": "code",
   "execution_count": null,
   "metadata": {},
   "outputs": [],
   "source": [
    "#   Indexing and Slicing Arrays ...\n",
    "data = np.array([1, 2, 3])\n",
    "aa2 = data[1]\n",
    "bb2 = data[0:2]\n",
    "cc2 = data[1:]\n",
    "dd2 = data[-2:]\n",
    "\n",
    "print(\"\\nOriginal data ...\", data)\n",
    "print(\"a2 element ...\", aa2)\n",
    "print(\"b2 slice 0:2 ...\", bb2)\n",
    "print(\"c2 1: ...\", cc2)\n",
    "print(\"d2 -2: ...\", dd2)\n"
   ]
  },
  {
   "cell_type": "markdown",
   "metadata": {},
   "source": [
    "#### **Other functions **\n",
    "\n",
    "- Can use “&” and “|” to get Booleans\n",
    "- np.nonzero() = select elements or indices from an array\n",
    "- np.vstack() = stack vertically\n",
    "- np.hstack() = stack horizontally\n",
    "- np.hsplit() = split arrays\n",
    "- np.view() = create new array object that looks at same data as the original array\n",
    "- copy() = complete copy of the array and its data.\n",
    "- Addition/Subtraction\n",
    "- Multiplication/Division\n",
    "- Max/min\n",
    "- Sum/mean\n",
    "- Product\n",
    "- Standard deviation\n"
   ]
  },
  {
   "cell_type": "code",
   "execution_count": null,
   "metadata": {},
   "outputs": [],
   "source": [
    "# comparison operations\n",
    "data2 = np.array([[1, 2, 3, 4], [5, 6, 7, 8], [9, 10, 11, 12]])\n",
    "print(\"\\ndata2 original array ...\", data2)\n",
    "print(\"data2 elements < 5 ...\", data2[data2 < 5])\n",
    "\n",
    "five_up = data2 >= 5\n",
    "print(\"data2 elements >= 5 ...\", data2[five_up])\n",
    "\n",
    "divisible_by_2 = data2[data2 % 2 == 0]\n",
    "print(\"data2 elements divisible_by_2 ...\", divisible_by_2)\n"
   ]
  },
  {
   "cell_type": "markdown",
   "metadata": {},
   "source": [
    "#### **Broadcasting NumPy Array**\n",
    "\n",
    "A mechanism for performing math operations on arrays of unequal shapes\n",
    "\n",
    "A mechanism for performing math operations on arrays of unequal shapes\n",
    "\n",
    "To determine if two arrays are broadcast-compatible, align the entries of their shapes such that their trailing dimensions are aligned, and then check that each pair of aligned dimensions satisfy either of the following conditions:\n",
    "\n",
    "- the aligned dimensions have the same size\n",
    "- one of the dimensions has a size of 1\n",
    "\n",
    "The two arrays are broadcast-compatible if either of these conditions are satisfied for each pair of aligned dimensions.\n",
    "\n"
   ]
  },
  {
   "cell_type": "code",
   "execution_count": null,
   "metadata": {},
   "outputs": [],
   "source": [
    "## BROADCASTING ARRAYS\n",
    "\n",
    "# a shape-(3, 4) array\n",
    "x = np.array(\n",
    "        [[-0.0, -0.1, -0.2, -0.3], \n",
    "        [-0.4, -0.5, -0.6, -0.7], \n",
    "        [-0.8, -0.9, -1.0, -1.1]]\n",
    ")\n",
    "\n",
    "# a shape-(4,) array\n",
    "y = np.array([1, 2, 3, 4])\n",
    "\n",
    "# multiplying a shape-(4,) array -- y\n",
    "# with a shape-(3, 4) array -- x\n",
    "# `y` is multiplied by each row of `x`\n",
    "\n",
    "print(\"arrays x * y ...\\n\", x * y)\n"
   ]
  }
 ],
 "metadata": {
  "kernelspec": {
   "display_name": "Python 3.10.7 64-bit",
   "language": "python",
   "name": "python3"
  },
  "language_info": {
   "codemirror_mode": {
    "name": "ipython",
    "version": 3
   },
   "file_extension": ".py",
   "mimetype": "text/x-python",
   "name": "python",
   "nbconvert_exporter": "python",
   "pygments_lexer": "ipython3",
   "version": "3.10.7"
  },
  "orig_nbformat": 4,
  "vscode": {
   "interpreter": {
    "hash": "369f2c481f4da34e4445cda3fffd2e751bd1c4d706f27375911949ba6bb62e1c"
   }
  }
 },
 "nbformat": 4,
 "nbformat_minor": 2
}
