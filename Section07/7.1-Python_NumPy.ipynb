{
 "cells": [
  {
   "cell_type": "markdown",
   "metadata": {},
   "source": [
    "# Data Analytics\n",
    "\n",
    "## Python NumPy, and Broadcasting\n",
    "\n",
    "We are going to learn about ...\n",
    "\n",
    "- Working with the shape and size of an array\n",
    "- Concatenation\n",
    "- Sorting\n",
    "- Unpacking Array Tuples\n",
    "- Indexing and slicing\n",
    "- NumPy and Broadcasting\n",
    "- Arithmetic, Logic, Comparison, and statistical operations\n",
    "- Other NumPy Functions\n",
    "\n",
    "<br>\n",
    "\n",
    "---\n"
   ]
  },
  {
   "cell_type": "markdown",
   "metadata": {},
   "source": [
    "### What we learned so far ...\n",
    "\n",
    "**NumPy** (_Numerical Python_) is an open-source library for the Python programming language. It is used for scientific computing and working with arrays.\n",
    "\n",
    "About NumPy Arrays ...\n",
    "- Are usually fixed-size containers of items of the same type and size\n",
    "- A grid of values that contains information about raw data, how to locate an element, and how to interpret it\n",
    "- The elements are all the same, referred to as the array `dtype`\n",
    "- The number of dimensions and items in an array is defined by its shape. \n",
    "- The shape of an array is a **TUPLE** of non-negative integers that specify the sizes of each dimension (Remember Tuples are formed with parentheses -- round brackets).\n",
    "- The rank of the array is the number of its `dimensions`\n",
    "\n",
    "### Useful NumPy keywords\n",
    "\n",
    "- **Ndarray** == N-dimensional array\n",
    "- **1-D** == one dimensional array\n",
    "- **2-D** == two-dimensional array\n",
    "- **3-D** == three-dimensional array\n",
    "- **Vector** == an array with a single dimension\n",
    "- **Matrix** == an array with two dimensions\n",
    "- **Tensor** == an array with 3+ dimensions\n",
    "- **Dimensions** == the number of axes of an array\n",
    "\n",
    "<br>"
   ]
  },
  {
   "cell_type": "markdown",
   "metadata": {},
   "source": [
    "<br>\n",
    "\n",
    "---\n",
    "\n",
    "### **Working with the shape and size of arrays**\n",
    "\n",
    "Remember we learned that in NumPy arrays ...\n",
    "- The elements are all the same, referred to as the array `dtype`\n",
    "- The number of `dimensions` and items in an array defines its `SHAPE`\n",
    "- The shape is a _**Tuple** of non-negative integers_ that specify the `sizes` of each `dimension`\n",
    "- The rank of the array is the number of its `dimensions`\n",
    "\n",
    "You can get the number of dimensions, shape (length of each dimension), and size (number of all elements) of the NumPy array with `.ndim`, `.shape`, and `.size` attributes of numpy.ndarray. \n",
    "\n",
    "The built-in function `.len()` returns the size of the first dimension; not to be confused with the number of dimensions in the NumPy array."
   ]
  },
  {
   "cell_type": "code",
   "execution_count": 1,
   "metadata": {},
   "outputs": [
    {
     "name": "stdout",
     "output_type": "stream",
     "text": [
      "Array dimensions ... 3\n",
      "Array size and length ... 24\n",
      "Array shape ... (3, 2, 4)\n",
      "Array length ... 3\n"
     ]
    }
   ],
   "source": [
    "# Example of discovering the shape and size of a Numpy Array\n",
    "import numpy as np\n",
    "\n",
    "array_example = np.array([ [ [0, 1, 2, 3], [4, 5, 6, 7] ],\n",
    "                            [ [0, 1, 2, 3], [4, 5, 6, 7] ],\n",
    "                            [[0 ,1 ,2, 3], [4, 5, 6, 7] ] ])\n",
    "\n",
    "exDimension = array_example.ndim\n",
    "print(\"Array dimensions ...\", exDimension)  # 3 (dimensions)\n",
    "\n",
    "exSize = array_example.size\n",
    "print(\"Array size and length ...\", exSize)  # 2,4 (2 axis w/ length of 4)\n",
    "\n",
    "exShape = array_example.shape\n",
    "print(\"Array shape ...\", exShape)   # 3, 2, 4\n",
    "\n",
    "exLength = len(array_example)\n",
    "print(\"Array length ...\", exLength)   # 3\n"
   ]
  },
  {
   "cell_type": "markdown",
   "metadata": {},
   "source": [
    "#### **Reshaping NumPy Arrays**\n",
    "\n",
    "As the name suggests, reshape means 'changes in shape'. The `numpy.reshape()` function helps us to get a new shape to an array without changing its data.\n",
    "\n",
    "Sometimes, we need to reshape the data from wide to long. So in this situation, we have to reshape the array using `.reshape()` function.\n",
    "\n",
    "This function returns a ndarray. It is a new view object if possible; otherwise, it will be a copy. There is no guarantee of the memory layout of the returned array.\n",
    "\n",
    "        Syntax: -   numpy.reshape(arr, new_shape)\n"
   ]
  },
  {
   "cell_type": "code",
   "execution_count": null,
   "metadata": {},
   "outputs": [],
   "source": [
    "# reshaping a NumPy array\n",
    "aArray = np.array([[1,2,3], [4,5,6]])\n",
    "newShape1 = np.reshape(aArray, 6)\n",
    "print(\"newShape1 ...\", newShape1)\n",
    "\n",
    "newShape2 = np.reshape(aArray, (3,-1))\n",
    "# the unspecified value is inferred to be 2\n",
    "print(\"\\nnewShape2 ...\\n\", newShape2)\n",
    "\n",
    "bArray = np.array([1, 2, 3, 4, 5, 6, 7, 8, 9, 10, 11, 12])\n",
    "newShape3 = bArray.reshape(2, 3, 2)\n",
    "print(\"\\nnewShape3 ...\\n\", newShape3)\n"
   ]
  },
  {
   "cell_type": "markdown",
   "metadata": {},
   "source": [
    "\n",
    "---\n",
    "\n",
    "### **NumPy Concatenation**\n",
    "\n",
    "Concatenation refers to joining. This function is used to join two or many more arrays _of the same shape_, along a specified axis. \n",
    "\n",
    "The `concatenation()` function takes the following parameters.\n",
    "\n",
    "        Syntax: -- numpy.concatenate((a1, a2, ...), axis)\n",
    "\n",
    "- **a1,a2, ...**   represents a sequence of arrays of the _same type_\n",
    "- **axis**    represents the axis along which arrays have to be joined. _Default is axis 0_"
   ]
  },
  {
   "cell_type": "code",
   "execution_count": null,
   "metadata": {},
   "outputs": [],
   "source": [
    "# NumPy concatenation\n",
    "import numpy as np\n",
    "\n",
    "arrayA= np.array([1, 2, 3, 4])\n",
    "arrayB = np.array([5, 6, 7, 8])\n",
    "\n",
    "arrCombo = np.concatenate((arrayA, arrayB))\n",
    "print(\"Print arrCombo ...\", arrCombo)\n",
    "\n",
    "\n",
    "# More Concatenation\n",
    "arrayX = np.array([[1, 2], [3, 4]])\n",
    "arrayY = np.array([[5, 6]])\n",
    "arrayZ = np.array([[7, 8], [9, 10], [11, 12]])\n",
    "\n",
    "arrayC = np.concatenate((arrayX, arrayY, arrayZ), axis=0)\n",
    "print(\"\\nAnd arrayC ...\\n\", arrayC)\n"
   ]
  },
  {
   "cell_type": "markdown",
   "metadata": {},
   "source": [
    "\n",
    "---\n",
    "\n",
    "### **Sorting NumPy arrays**\n",
    "\n",
    "The NumPy nd-array object has a function called `.sort()`, that will sort a specified array.\n",
    "\n",
    "Due to speed and memory management during sort, NumPy's `.sort()` functions are much more efficient and useful for data analytics than the build-in Python sort, and even the array module sort methods.\n",
    "\n",
    "**Note**: The NumPy `.sort()` method _returns a sorted **copy** of the array_, leaving the original array unchanged.\n",
    "\n",
    "One can sort all sort of different NumPy arrays -- arrays of strings, or many other data types.\n"
   ]
  },
  {
   "cell_type": "code",
   "execution_count": null,
   "metadata": {},
   "outputs": [],
   "source": [
    "# Sorting NumPy arrays ...\n",
    "import numpy as np\n",
    "\n",
    "# sorting a 1-D array\n",
    "arr1 = np.array([2, 1, 5, 3, 7, 4, 6, 8])\n",
    "i1 = np.sort(arr1)\n",
    "print(i1)\n",
    "\n",
    "# Sort a 2-D array:\n",
    "# on a 2-D array both tuples will be sorted\n",
    "arr2 = np.array([[3, 2, 4], [5, 0, 1]])\n",
    "print(np.sort(arr2))\n",
    "\n",
    "# Sort an array of strings alphabetically:\n",
    "arr3 = np.array(['banana', 'cherry', 'apple'])\n",
    "print(np.sort(arr3))\n",
    "\n",
    "# Sort a boolean array:\n",
    "arr4 = np.array([True, False, True])\n",
    "print(np.sort(arr4))\n"
   ]
  },
  {
   "cell_type": "markdown",
   "metadata": {},
   "source": [
    "#### **`argsort()`**\n",
    "A related function is `argsort()`, which instead of sorting the array elements, returns another array with a list of the **INDEXES** of the sorted elements.\n",
    "\n",
    "The first element of this result gives the index of the smallest element, the second value gives the index of the second smallest, and so on. \n",
    "\n",
    "These indices can then be used (via fancy indexing) to construct the sorted data array if desired."
   ]
  },
  {
   "cell_type": "code",
   "execution_count": null,
   "metadata": {},
   "outputs": [],
   "source": [
    "# `argsort` returns the Index Numbers of elements in order\n",
    "import numpy as np\n",
    "xx = np.array([2, 1, 4, 3, 5])\n",
    "ii12 = np.argsort(xx)\n",
    "print(ii12)\n"
   ]
  },
  {
   "cell_type": "markdown",
   "metadata": {},
   "source": [
    "#### **`lexsort()`**\n",
    "\n",
    "NumPy `.lexsort()` performs an indirect stable sort using a sequence of keys.\n",
    "\n",
    "        Syntax:-` numpy.lexsort(keys, axis=- 1)`\n",
    "\n",
    "This function is used for sorting using multiple sort keys, involving more than one array. \n",
    "\n",
    "For example, we first sort data in Column A and then sort the values in column B. \n",
    "\n",
    "In the below example we take two arrays representing column A and column B. \n",
    "\n",
    "On applying the `lexsort()` function for sorting first by column A and then by column B we get the result of sorting returned as a list array containing the indices of the elements in column A (like argsort). \n",
    "\n",
    "This sort order is then applied to both data columns."
   ]
  },
  {
   "cell_type": "code",
   "execution_count": null,
   "metadata": {},
   "outputs": [],
   "source": [
    "# using NumPy `lexsort()`\n",
    "import numpy as np\n",
    "\n",
    "# First column -- will act as Indexes of our data\n",
    "colA = [2,5,1,8,1]\n",
    "# Second column -- the 2nd column of our data\n",
    "colB = [9,0,3,2,0]\n",
    "\n",
    "# Sort by ColA and then by colB\n",
    "sorted_index = np.lexsort((colA, colB))\n",
    "print(\"Here is the result of the col A sort\")\n",
    "print(\"Sorted Index ...\", sorted_index)\n",
    "\n",
    "#print the result showing the column values as pairs\n",
    "listAB = [(colA[i],colB[i]) for i in sorted_index]\n",
    "print(\"\\nCombined column values by index list ...\\n\", listAB)\n"
   ]
  },
  {
   "cell_type": "markdown",
   "metadata": {},
   "source": [
    "#### Other sort Methods\n",
    "\n",
    "Actually, NumPy provides a variety of functions for sorting and searching. There are various sorting algorithms like `quicksort`, `merge sort` and `heapsort` which are implemented using the `numpy.sort()` method.\n",
    "\n",
    "Then there are other sort methods like the `searchsorted()` method and the `partition()` methods. \n",
    "\n",
    "You can read about these in the NumPy documentation at ... [NumPy - Sorting, searching, and counting](https://numpy.org/doc/stable/reference/routines.sort.html)\n"
   ]
  },
  {
   "cell_type": "markdown",
   "metadata": {},
   "source": [
    "\n",
    "---\n",
    "\n",
    "### **Unpacking array Tuples**\n",
    "\n",
    "You can also unpack array tuples and assign them to different variables.\n",
    "\n",
    "In Python, you can assign elements of a tuple or list to multiple variables. It is called **_sequence unpacking_**.\n",
    "\n",
    "If you write variables on the left side separated by commas , then elements of a tuple (or list) on the right side are assigned to each variable. \n",
    "\n",
    "The following examples use tuples, but the same is true for lists:"
   ]
  },
  {
   "cell_type": "code",
   "execution_count": null,
   "metadata": {},
   "outputs": [],
   "source": [
    "# Assigning variables using multi assignment\n",
    "tt = ([ [ [0, 1, 2, 3], [4, 5, 6, 7] ],\n",
    "        [ [0, 1, 2, 3], [4, 5, 6, 7] ],\n",
    "        [[0 ,1 ,2, 3], [4, 5, 6, 7] ] ])\n",
    "\n",
    "a, b, c = tt\n",
    "\n",
    "print(\"a = \", a)\n",
    "print(\"b = \", b)\n",
    "print(\"c = \", c)\n",
    "print(\"The data type of c ...\", type(c))\n",
    "\n",
    "# further unpack the \"a\" variable\n",
    "a0, a1 = a\n",
    "print(\"\\nFurther unpacking a ...\")\n",
    "print(\"a0 = \", a0)\n",
    "print(\"a1 = \", a1)\n",
    "print(\"The data type of a1 ...\", type(a1))\n"
   ]
  },
  {
   "cell_type": "markdown",
   "metadata": {},
   "source": [
    "#### **Unpack a nested tuple or list**\n",
    "\n",
    "You can also unpack nested tuples or lists. If you want to expand the inner elements, enclose the variables with `()` or `[]` to match the shape of the array."
   ]
  },
  {
   "cell_type": "code",
   "execution_count": null,
   "metadata": {},
   "outputs": [],
   "source": [
    "# Unpacking a series of nested elements\n",
    "example = ([ [ [0, 1, 2, 3], [14, 15, 16, 17] ],\n",
    "        [ [20, 21, 22, 23], [34, 35, 36, 37] ],\n",
    "        [[40 ,41 ,42, 43], [54, 55, 56, 57] ] ])\n",
    "\n",
    "[[[a,b,c,d], [e,f,g,h]],[[i,j,k,l],[m,n,o,p]],[[q,r,s,t],[u,v,w,x]]] = example\n",
    "\n",
    "print(a, b, c, d)\n",
    "print(i, j, k, l)\n",
    "print(q, r, s, t, u, v, w, x)\n",
    "\n",
    "# else using the overflow astrix \n",
    "[[[aa,bb,cc,dd], [ee,ff,gg,hh]], *zz] = example\n",
    "print(\"\\nThe variables aa, bb, cc, etc...\")\n",
    "print(aa,bb,cc,dd,ee,ff,gg, hh)\n",
    "print(\"\\nThe collective variable zz ...\")\n",
    "print(zz)\n"
   ]
  },
  {
   "cell_type": "markdown",
   "metadata": {},
   "source": [
    "\n",
    "---\n",
    "\n",
    "### **NumPy Array Indexing and Slicing**\n",
    "\n",
    "As mentioned earlier, items in ndarray object follows zero-based index. Three types of indexing methods are available − field access, basic slicing and advanced indexing.\n",
    "\n",
    "Basic slicing is an extension of Python's basic concept of slicing to n dimensions\n",
    "\n"
   ]
  },
  {
   "cell_type": "code",
   "execution_count": null,
   "metadata": {},
   "outputs": [],
   "source": [
    "#   Indexing and Slicing Arrays ...\n",
    "import numpy as np \n",
    "\n",
    "# # slice single item \n",
    "arr1 = np.arange(10) \n",
    "bee = arr1[5]\n",
    "print(\"\\nOriginal data arr1 ...\", arr1)\n",
    "print(\"bee is element at index 5 ...\", bee)\n",
    "\n",
    "# more slicing options\n",
    "data = np.array([1, 2, 3, 4, 5])\n",
    "aa2 = data[1]\n",
    "bb2 = data[2:4]\n",
    "cc2 = data[3:]\n",
    "dd2 = data[-2:]\n",
    "\n",
    "print(\"\\nThe data array ...\", data)\n",
    "print(\"a2 element [1] ...\", aa2)\n",
    "print(\"b2 slice 2:4 ...\", bb2)\n",
    "print(\"c2 slice 3: ...\", cc2)\n",
    "print(\"d2 slice -2: ...\", dd2)\n",
    "\n",
    "# slicing a more complex array\n",
    "arr2 = np.array([[1,2,3],[3,4,5],[4,5,6]]) \n",
    "\n",
    "print(\"\\nThe arr2 array ...\", arr2)\n",
    "print(\"\\nNow we'll slice the array from the index arr2[1:]\") \n",
    "print(arr2[1:])\n"
   ]
  },
  {
   "cell_type": "markdown",
   "metadata": {},
   "source": [
    "\n",
    "---\n",
    "\n",
    "### **Broadcasting NumPy Arrays**\n",
    "\n",
    "A mechanism for performing math operations on arrays of unequal shapes\n",
    "\n",
    "The term broadcasting describes how NumPy treats arrays with different shapes during arithmetic operations.\n",
    "\n",
    "NumPy operations are usually done element-by-element which requires two arrays to have exactly the same shape. NumPy’s broadcasting rule relaxes this constraint when the arrays’ shapes meet certain constraints. \n",
    "\n",
    "Subject to certain constraints, the smaller array is “broadcast” across the larger array so that they have compatible shapes.\n",
    "\n",
    "To determine if two arrays are broadcast-compatible, align the entries of their shapes such that their trailing dimensions are aligned, and then check that each pair of aligned dimensions satisfy either of the following conditions:\n",
    "\n",
    "- the aligned dimensions have the same size\n",
    "- one of the dimensions has a size of 1\n",
    "\n",
    "The two arrays are broadcast-compatible if either of these conditions are satisfied for each pair of aligned dimensions.\n",
    "\n",
    "> **The Broadcasting Rule: -** In order to broadcast, the size of the trailing axes for both arrays in an operation, must either be the same size, or one of them must be one.\n"
   ]
  },
  {
   "cell_type": "code",
   "execution_count": null,
   "metadata": {},
   "outputs": [],
   "source": [
    "# simplest broadcasting  - an array and a scalar value are combined\n",
    "from numpy import array\n",
    "a = array([1.0,2.0,3.0])\n",
    "b = 2.0\n",
    "print(a * b)\n"
   ]
  },
  {
   "cell_type": "code",
   "execution_count": null,
   "metadata": {},
   "outputs": [],
   "source": [
    "# add a 1-D array broadcast to a 2-D array\n",
    "from numpy import array\n",
    "arr2D = array([[ 0.0,  0.0,  0.0],\n",
    "            [10.0, 10.0, 10.0],\n",
    "            [20.0, 20.0, 20.0],\n",
    "            [30.0, 30.0, 30.0]])\n",
    "arr1D = array([1.0, 2.0, 3.0])\n",
    "print(arr2D + arr1D)\n"
   ]
  },
  {
   "cell_type": "markdown",
   "metadata": {},
   "source": [
    "Broadcasting provides a convenient way of taking the outer product (or any other outer operation) of two arrays. The following example shows an outer addition operation of two 1-d arrays\n"
   ]
  },
  {
   "cell_type": "code",
   "execution_count": null,
   "metadata": {},
   "outputs": [],
   "source": [
    "# transforming arrays for Broadcasting with`newaxis`\n",
    "from numpy import array, newaxis\n",
    "aa = array([0.0, 10.0, 20.0, 30.0])\n",
    "bb = array([1.0, 2.0, 3.0])\n",
    "\n",
    "print(\"The sum of aa and bb ...\\n\")\n",
    "print(aa[:,newaxis] + bb)\n"
   ]
  },
  {
   "cell_type": "markdown",
   "metadata": {},
   "source": [
    "Here the `newaxis` index operator inserts a new axis into `aa`, making it a two-dimensional 4x1 array. Then `bb` is broadcast / streached over `aa`.\n",
    "\n",
    "This image illustrates the stretching of both arrays to produce the desired 4x3 output array.\n",
    "\n",
    "![NumPy Broadcasting Example](./images/NumPy_Broadcasting.png)\n"
   ]
  },
  {
   "cell_type": "code",
   "execution_count": null,
   "metadata": {},
   "outputs": [],
   "source": [
    "## another example of Broadcasting arrays\n",
    "\n",
    "# a shape-(3, 4) array\n",
    "x = np.array(\n",
    "        [[-0.0, -0.1, -0.2, -0.3], \n",
    "        [-0.4, -0.5, -0.6, -0.7], \n",
    "        [-0.8, -0.9, -1.0, -1.1]]\n",
    ")\n",
    "\n",
    "# a shape-(4,) array\n",
    "y = np.array([1, 2, 3, 4])\n",
    "\n",
    "# multiplying a shape-(4,) array --> y\n",
    "# with a shape-(3, 4) array --> x\n",
    "# `y` is multiplied by each row of `x`\n",
    "\n",
    "print(\"arrays x * y ...\\n\", x * y)\n"
   ]
  },
  {
   "cell_type": "markdown",
   "metadata": {},
   "source": [
    "\n",
    "---\n",
    "\n",
    "### NumPy - Arithmetic Operations\n",
    "\n",
    "Arrays for performing arithmetic operations, such as `add()`, `subtract()`, `multiply()`, and `divide()`, must be either of the same shape, or should conform to the array broadcasting rules.\n",
    "\n"
   ]
  },
  {
   "cell_type": "code",
   "execution_count": null,
   "metadata": {},
   "outputs": [],
   "source": [
    "# basic array Arithmetic operations \n",
    "import numpy as np\n",
    "\n",
    "a = np.arange(9, dtype = np.float_).reshape(3,3) \n",
    "b = np.array([10,10,10]) \n",
    "\n",
    "print('Add the two arrays:')\n",
    "print(np.add(a,b))\n",
    "\n",
    "print('\\nSubtract the two arrays:')\n",
    "print(np.subtract(a,b))\n",
    "\n",
    "print('\\nMultiply the two arrays:')\n",
    "print(np.multiply(a,b))\n",
    "\n",
    "print('\\nDivide the two arrays:')\n",
    "print(np.divide(a,b))\n"
   ]
  },
  {
   "cell_type": "markdown",
   "metadata": {},
   "source": [
    "\n",
    "---\n",
    "\n",
    "### NumPy Comparison Operators\n",
    "\n",
    "The NumPy comparison operators and functions are used to compare array items, and returns Boolean True or false results. \n",
    "\n",
    "The NumPy **_comparison functions_** are greater, greater_equal, less, less_equal, equal, and not_equal. \n",
    "\n",
    "Like with any other such operations, the NumPy **_comparison operators_** are <, <=, >, >=, == and !=\n",
    "\n",
    "Learn more about the NumPy Comparison Operators read this article -- [Python numpy Comparison Operators](https://www.tutorialgateway.org/python-numpy-comparison-operators/)\n"
   ]
  },
  {
   "cell_type": "code",
   "execution_count": null,
   "metadata": {},
   "outputs": [],
   "source": [
    "# comparison operations\n",
    "import numpy as np\n",
    "\n",
    "data2 = np.array([[1, 2, 3, 4], [5, 6, 7, 8], [9, 10, 11, 12]])\n",
    "print(\"\\ndata2 original array ...\", data2)\n",
    "print(\"data2 elements < 5 ...\", data2[data2 < 5])\n",
    "\n",
    "five_up = data2 >= 5\n",
    "print(\"data2 elements >= 5 ...\", data2[five_up])\n",
    "\n",
    "divisible_by_2 = data2[data2 % 2 == 0]\n",
    "print(\"data2 elements divisible_by_2 ...\", divisible_by_2)\n"
   ]
  },
  {
   "cell_type": "markdown",
   "metadata": {},
   "source": [
    "\n",
    "---\n",
    "\n",
    "#### NumPy Logic functions routines\n",
    "\n",
    "Logical operations are used to find the logical relation between two arrays or lists or variables. We can perform logical operations on NumPy array to explore data relationships.\n",
    "\n",
    "You can explore NumPy Logic functions in this article -- [NumPy: Logic functions routines](https://www.w3resource.com/numpy/logic-functions/index.php)\n",
    "\n"
   ]
  },
  {
   "cell_type": "markdown",
   "metadata": {},
   "source": [
    "\n",
    "---\n",
    "\n",
    "### NumPy Aggregate or Statistical functions\n",
    "- Max / Min / Sum / Mean / etc.\n",
    "\n",
    "Python NumPy library has many aggregate or statistical functions for doing different types of tasks with one-dimensional or multi-dimensional arrays. Some of the useful aggregate functions are `mean()`, `min()`, `max()`, `average()`, `sum()`, `median()`, `percentile()`, etc.\n",
    "\n",
    "Information on NumPy statistical functions and operations can be found in this article -- [Python numpy Aggregate Functions](https://www.tutorialgateway.org/python-numpy-aggregate-functions/)\n",
    "\n"
   ]
  },
  {
   "cell_type": "markdown",
   "metadata": {},
   "source": [
    "\n",
    "---\n",
    "\n",
    "### **Other NumPy functions**\n",
    "\n",
    "- `np.nonzero()` = used to count the number of nonzero elements present in array [NumPy Count Nonzero Values in Python arrays](https://sparkbyexamples.com/numpy/numpy-count-nonzero-values-in-python/)\n",
    "- `np.vstack()` = used to stack arrays in sequence vertically (row wise) [NumPy: vstack() function](https://www.w3resource.com/numpy/manipulation/vstack.php)\n",
    "- `np.hstack()` = used to stack arrays in sequence horizontally (column wise) [NumPy: hstack() function](https://www.w3resource.com/numpy/manipulation/hstack.php)\n",
    "- `np.hsplit()` = used to split an array into multiple sub-arrays horizontally (column-wise) [NumPy: hsplit() function](https://www.w3resource.com/numpy/manipulation/hsplit.php)\n",
    "- `np.view()` = create new array object that looks at the same data as the original array [What is the array.view() method from NumPy in Python?](https://www.educative.io/answers/what-is-the-arrayview-method-from-numpy-in-python)\n",
    "- `.copy()` = There are different 'degrees' at which Python objects can be copied [Shallow vs Deep Copying of Python Objects](https://realpython.com/copying-python-objects/)\n"
   ]
  },
  {
   "cell_type": "markdown",
   "metadata": {},
   "source": [
    "\n",
    " ---\n",
    "\n",
    " ### Closing note ...\n",
    "\n",
    "NumPy is huge, and it's application is wide.\n",
    "\n",
    "NumPy is fundamental for working with data,  and we'll be using it as we learn about Matplotlib and Pandas.\n",
    "\n",
    "It is through working with data, and continually exploring new options, that we will grow in our understanding of the uses of NumPy.\n"
   ]
  }
 ],
 "metadata": {
  "kernelspec": {
   "display_name": "Python 3.10.7 64-bit",
   "language": "python",
   "name": "python3"
  },
  "language_info": {
   "codemirror_mode": {
    "name": "ipython",
    "version": 3
   },
   "file_extension": ".py",
   "mimetype": "text/x-python",
   "name": "python",
   "nbconvert_exporter": "python",
   "pygments_lexer": "ipython3",
   "version": "3.10.7"
  },
  "orig_nbformat": 4,
  "vscode": {
   "interpreter": {
    "hash": "369f2c481f4da34e4445cda3fffd2e751bd1c4d706f27375911949ba6bb62e1c"
   }
  }
 },
 "nbformat": 4,
 "nbformat_minor": 2
}
