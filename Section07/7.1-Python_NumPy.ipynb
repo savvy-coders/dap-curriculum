{
 "cells": [
  {
   "cell_type": "markdown",
   "metadata": {},
   "source": [
    "# Data Analytics\n",
    "\n",
    "## Python NumPy, and Broadcasting\n",
    "\n",
    "We are going to learn about ...\n",
    "\n",
    "- More NumPy Arrays\n",
    "- NumPy and Broadcasting\n",
    "\n",
    "<br>\n",
    "\n",
    "---\n"
   ]
  },
  {
   "cell_type": "markdown",
   "metadata": {},
   "source": [
    "<br>\n",
    "\n",
    "### What we learned ...\n",
    "\n",
    "**NumPy** (_Numerical Python_) is an open-source library for the Python programming language. It is used for scientific computing and working with arrays.\n",
    "\n",
    "About NumPy Arrays ...\n",
    "- Are usually fixed-size containers of items of the same type and size\n",
    "- A grid of values that contains information about raw data, how to locate an element, and how to interpret it\n",
    "- The elements are all the same, referred to as the array `dtype`\n",
    "- The number of dimensions and items in an array is defined by its shape. \n",
    "- The shape of an array is a tuple of non-negative integers that specify the sizes of each dimension.\n",
    "- The rank of the array is the number of its `dimensions`\n",
    "\n",
    "### Useful NumPy keywords\n",
    "\n",
    "- **Ndarray** == N-dimensional array\n",
    "- **1-D** == one dimensional array\n",
    "- **2-D** == two-dimensional array\n",
    "- **3-D** == three-dimensional array\n",
    "- **Vector** == an array with a single dimension\n",
    "- **Matrix** == an array with two dimensions\n",
    "- **Tensor** == an array with 3+ dimensions\n",
    "- **Dimensions** == the number of axes of an array\n",
    "\n",
    "<br>\n",
    "\n",
    "![NumPy Multi-Dimensional Arrays](./images/numpy_array_t.png)\n",
    "\n",
    "<br>\n"
   ]
  },
  {
   "cell_type": "markdown",
   "metadata": {},
   "source": [
    "#### **Install NumPy**\n",
    "\n",
    "With Pip setup on your system, you can use the command line for installing NumPy.\n",
    "\n",
    "Install NumPy with Python by typing:\n",
    "\n",
    "```bash\n",
    "    pip install numpy\n",
    "```\n",
    "\n",
    "#### **Importing NumPy into your projects**\n",
    "\n",
    "To use NumPy we need to import it like any other modules\n",
    "You can import 2 ways\n",
    "\n",
    "```python\n",
    "    import numpy\n",
    "\n",
    "    # OR ...\n",
    "\n",
    "    import numpy as np\n",
    "\n",
    "```\n",
    "\n",
    "#### **Creating NumPy Arrays**\n"
   ]
  },
  {
   "cell_type": "code",
   "execution_count": null,
   "metadata": {},
   "outputs": [],
   "source": [
    "# creating Numpy Arrays\n",
    "import numpy as np\n",
    "\n",
    "a1 = np.array([1, 2, 3, 4, 5, 6])\n",
    "print(a1)\n",
    "\n",
    "a2 = np.array([[1, 2, 3, 4], [5, 6, 7, 8], [9, 10, 11, 12]])\n",
    "print(a2)\n"
   ]
  },
  {
   "cell_type": "code",
   "execution_count": null,
   "metadata": {},
   "outputs": [],
   "source": [
    "# creating arrays filled with eros or Ones\n",
    "import numpy as np\n",
    "\n",
    "# build an array with 4x zeros\n",
    "b = np.zeros(4)\n",
    "print(\"b ...\", b)\n",
    "\n",
    "# build an array with 3x ones\n",
    "c = np.ones(3)\n",
    "print(\"c ...\", c)\n",
    "\n",
    "# create an empty array\n",
    "d = np.empty(3)\n",
    "print(\"d ...\", d)\n"
   ]
  },
  {
   "cell_type": "markdown",
   "metadata": {},
   "source": [
    "#### **We can create arrays with a range of elements**:"
   ]
  },
  {
   "cell_type": "code",
   "execution_count": null,
   "metadata": {},
   "outputs": [],
   "source": [
    "import numpy as np\n",
    "\n",
    "# Contains `a range`` of evenly spaced intervals\n",
    "# between 1st num, and 2nd num, in steps of 3rd num\n",
    "f = np.arange(2, 9, 2)\n",
    "print(\"f ...\",  f)\n",
    "\n",
    "# create an array with linearly spaced values at a specified interval\n",
    "# range from 0 up to 14 in 5 intervals\n",
    "g = np.linspace(0, 14, num=5)\n",
    "print(\"g ...\", g)\n"
   ]
  },
  {
   "cell_type": "markdown",
   "metadata": {},
   "source": [
    "#### **Specifying the data type of an array**"
   ]
  },
  {
   "cell_type": "code",
   "execution_count": null,
   "metadata": {},
   "outputs": [],
   "source": [
    "# explicitly specify which data type -- dtype --  to use\n",
    "import numpy as np\n",
    "\n",
    "h = np.ones(2, dtype=np.int64)\n",
    "print(h)\n"
   ]
  },
  {
   "cell_type": "markdown",
   "metadata": {},
   "source": [
    "#### **Sorting NumPy arrays**\n",
    "\n",
    "The NumPy nd-array object has a function called sort(), that will sort a specified array. \n",
    "\n",
    "NumPy's `.sort()` function is much more efficient and useful for data analytics than the Python sort methods or even the Python array sort methods, due to speed and memory management during sort.\n",
    "\n",
    "**Note**: This method returns a sorted copy of the array, leaving the original array unchanged.\n",
    "\n",
    "One can also sort arrays of strings, or any other data type:\n"
   ]
  },
  {
   "cell_type": "code",
   "execution_count": null,
   "metadata": {},
   "outputs": [],
   "source": [
    "import numpy as np\n",
    "\n",
    "# sorting a 1-D array\n",
    "arr1 = np.array([2, 1, 5, 3, 7, 4, 6, 8])\n",
    "i1 = np.sort(arr1)\n",
    "print(i1)\n",
    "\n",
    "# Sort a 2-D array:\n",
    "# on a 2-D array both arrays will be sorted\n",
    "arr2 = np.array([[3, 2, 4], [5, 0, 1]])\n",
    "print(np.sort(arr2))\n",
    "\n",
    "# Sort the array alphabetically:\n",
    "arr3 = np.array(['banana', 'cherry', 'apple'])\n",
    "print(np.sort(arr3))\n",
    "\n",
    "# Sort a boolean array:\n",
    "arr4 = np.array([True, False, True])\n",
    "print(np.sort(arr4))\n"
   ]
  },
  {
   "cell_type": "markdown",
   "metadata": {},
   "source": [
    "#### **`argsort()`**\n",
    "A related function is argsort, which instead returns an array of the indices of the sorted elements.\n",
    "\n",
    "The first element of this result gives the index of the smallest element, the second value gives the index of the second smallest, and so on. \n",
    "\n",
    "These indices can then be used (via fancy indexing) to construct the sorted array if desired."
   ]
  },
  {
   "cell_type": "code",
   "execution_count": null,
   "metadata": {},
   "outputs": [],
   "source": [
    "# argsort returns the Index Numbers of elements in order\n",
    "import numpy as np\n",
    "xx = np.array([2, 1, 4, 3, 5])\n",
    "i12 = np.argsort(xx)\n",
    "print(i12)\n"
   ]
  },
  {
   "cell_type": "markdown",
   "metadata": {},
   "source": [
    "#### **`lexsort()`**\n",
    "\n",
    "NumPy `lexsort()` perform an indirect stable sort using a sequence of keys.\n",
    "Syntax:-` numpy.lexsort(keys, axis=- 1)`\n",
    "\n",
    "This function is used for sorting using multiple sort keys involving more than one array. \n",
    "\n",
    "For example, we first sort data in Column A and then sort the values in column B. \n",
    "\n",
    "In the below example we take two arrays representing column A and column B. \n",
    "\n",
    "On applying the `lexsort()` function for sorting first by column A and then by column B we get the result of sorting as an array containing the indices of the elements in column A."
   ]
  },
  {
   "cell_type": "code",
   "execution_count": null,
   "metadata": {},
   "outputs": [],
   "source": [
    "import numpy as np\n",
    "\n",
    "# First column -- Indexes of our data\n",
    "colA = [2,5,1,8,1]\n",
    "# Second column -- the values of our data\n",
    "colB = [9,0,3,2,0]\n",
    "\n",
    "# Sort by ColA and then by colB\n",
    "sorted_index = np.lexsort((colB,colA))\n",
    "print(\"Sorted Index ...\", sorted_index)\n",
    "\n",
    "#print the result showing the column values as pairs\n",
    "print( [(colA[i],colB[i]) for i in sorted_index] )\n"
   ]
  },
  {
   "cell_type": "markdown",
   "metadata": {},
   "source": [
    "#### Other sort Methods\n",
    "\n",
    "There are other sort methods like the `searchsorted()` method and the `partition()` methods. You can read about these in the NumPy documentation at ... [NumPy - Sorting, searching, and counting](https://numpy.org/doc/stable/reference/routines.sort.html)"
   ]
  },
  {
   "cell_type": "markdown",
   "metadata": {},
   "source": [
    "#### **NumPy Concatenation**\n",
    "\n"
   ]
  }
 ],
 "metadata": {
  "kernelspec": {
   "display_name": "Python 3.10.7 64-bit",
   "language": "python",
   "name": "python3"
  },
  "language_info": {
   "codemirror_mode": {
    "name": "ipython",
    "version": 3
   },
   "file_extension": ".py",
   "mimetype": "text/x-python",
   "name": "python",
   "nbconvert_exporter": "python",
   "pygments_lexer": "ipython3",
   "version": "3.10.7"
  },
  "orig_nbformat": 4,
  "vscode": {
   "interpreter": {
    "hash": "369f2c481f4da34e4445cda3fffd2e751bd1c4d706f27375911949ba6bb62e1c"
   }
  }
 },
 "nbformat": 4,
 "nbformat_minor": 2
}
