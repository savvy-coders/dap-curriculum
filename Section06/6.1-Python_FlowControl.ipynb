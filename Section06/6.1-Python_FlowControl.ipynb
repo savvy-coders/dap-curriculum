{
 "cells": [
  {
   "attachments": {},
   "cell_type": "markdown",
   "metadata": {},
   "source": [
    "# Python Logical Flow Control\n",
    "\n",
    "The OBJECTIVES of This Section: Learn about ...\n",
    "\n",
    "- Logical Flow Control and the types of control structures\n",
    "- If and Else statements\n",
    "    - Comparison Operators\n",
    "    - Logic Operators\n",
    "- Looping structures\n",
    "- The range() method in Python\n",
    "\n",
    "<br>\n",
    "\n",
    "---\n",
    "\n",
    "<br>"
   ]
  },
  {
   "attachments": {},
   "cell_type": "markdown",
   "metadata": {},
   "source": [
    "## Logical Flow Control\n",
    "\n",
    "A program’s control flow is the order in which the program’s code executes.\n",
    "\n",
    "The control flow of a Python program is regulated by conditional statements, loops, and function calls.\n",
    "\n",
    "### Python has three types of control structures:\n",
    "\n",
    "- **Sequential** - Sequential statements are a set of statements whose execution process happens in a sequence.\n",
    "\n",
    "- **Selection** - selection statements are also known as Decision control statements or branching statements. This allows a program to test several conditions and execute instructions based on which condition is true.\n",
    "\n",
    "- **Repetition** - A repetition statement is used used for looping, i.e., to repeat a group (block) of programming instructions, multiple times.\n",
    "\n"
   ]
  },
  {
   "attachments": {},
   "cell_type": "markdown",
   "metadata": {},
   "source": [
    "### 1. Sequential Statements\n",
    "\n",
    "`Sequential statements` are a set of statements whose execution process happens in a sequence. This is the default mode for code execution in Python -- one after another lines of code are executed, from top to bottom.\n",
    "\n",
    "The problem with sequential statements is that if the logic has broken in any one of the lines, then the complete source code execution will break."
   ]
  },
  {
   "attachments": {},
   "cell_type": "markdown",
   "metadata": {},
   "source": [
    "### 2. Selection / Decision control statements\n",
    "\n",
    "In Python, the `selection statements` are also known as `Decision control statements` or `branching statements`.\n",
    "\n",
    "The selection statement allows a program to test several conditions and execute instructions based on which condition is true. In other words, a decision is made based on some condition, and the program execution code veers off in a specific direction, like a fork in a road.\n",
    "\n",
    "Some Decision Control Statements are:\n",
    "\n",
    "    -   Simple if\n",
    "    -   if-else\n",
    "    -   nested if\n",
    "    -   if-elif-else"
   ]
  },
  {
   "attachments": {},
   "cell_type": "markdown",
   "metadata": {},
   "source": [
    "### 3. Repetition statement\n",
    "\n",
    "A `repetition statement` is used to repeat a group (block) of programming instructions, over and ovr again for a certain pre-determined number of times.\n",
    "\n",
    "In Python, we generally have two loops / repetitive statements:\n",
    "\n",
    "    -   for loop\n",
    "    -   while loop\n",
    "\n",
    "<br>\n",
    "\n",
    "---"
   ]
  },
  {
   "attachments": {},
   "cell_type": "markdown",
   "metadata": {},
   "source": [
    "More to come here ..."
   ]
  },
  {
   "attachments": {},
   "cell_type": "markdown",
   "metadata": {},
   "source": [
    "## If and Else statements\n",
    "\n",
    "`If / Else` statements are used along with the Logical Comparison Operators we looked at earlier.\n",
    "\n",
    "### **Comparison Operators**\n",
    "\n",
    "| Operator | Name | Example |\n",
    "|----|----|----|\n",
    "| == | Equal | a == b |\n",
    "| != | Not Equal | a != b |\n",
    "| > | Greater Than | a > b |\n",
    "| < | Less Than | a < b |\n",
    "| >= | Greater than OR equal to | a >= b |\n",
    "| <= | Less than OR equal to | a <= b |\n",
    "\n",
    "<br>\n",
    "\n",
    "`if` statements are used to make a logical branching decision in your code, **IF** some or other condition is true."
   ]
  },
  {
   "cell_type": "code",
   "execution_count": null,
   "metadata": {},
   "outputs": [],
   "source": []
  }
 ],
 "metadata": {
  "kernelspec": {
   "display_name": "Python 3",
   "language": "python",
   "name": "python3"
  },
  "language_info": {
   "name": "python",
   "version": "3.10.7 (tags/v3.10.7:6cc6b13, Sep  5 2022, 14:08:36) [MSC v.1933 64 bit (AMD64)]"
  },
  "orig_nbformat": 4,
  "vscode": {
   "interpreter": {
    "hash": "369f2c481f4da34e4445cda3fffd2e751bd1c4d706f27375911949ba6bb62e1c"
   }
  }
 },
 "nbformat": 4,
 "nbformat_minor": 2
}
