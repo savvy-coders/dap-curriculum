{
 "cells": [
  {
   "attachments": {},
   "cell_type": "markdown",
   "metadata": {},
   "source": [
    "# Python Logical Flow Control\n",
    "\n",
    "The OBJECTIVES of This Section: Learn about ...\n",
    "\n",
    "- Logical Flow Control and the types of control structures\n",
    "- If and Else statements\n",
    "    - Comparison Operators\n",
    "    - Logic Operators\n",
    "- Looping structures\n",
    "- The range() method in Python\n",
    "\n",
    "<br>\n",
    "\n",
    "---\n",
    "\n",
    "<br>"
   ]
  },
  {
   "attachments": {},
   "cell_type": "markdown",
   "metadata": {},
   "source": [
    "## Logical Flow Control\n",
    "\n",
    "A program’s control flow is the order in which the program’s code executes.\n",
    "\n",
    "The control flow of a Python program is regulated by conditional statements, loops, and function calls.\n",
    "\n",
    "### Python has three types of control structures:\n",
    "\n",
    "- **Sequential** - Sequential statements are a set of statements whose execution process happens in a sequence.\n",
    "\n",
    "- **Selection** - selection statements are also known as Decision control statements or branching statements. This allows a program to test several conditions and execute instructions based on which condition is true.\n",
    "\n",
    "- **Repetition** - A repetition statement is used used for looping, i.e., to repeat a group (block) of programming instructions, multiple times.\n",
    "\n"
   ]
  },
  {
   "attachments": {},
   "cell_type": "markdown",
   "metadata": {},
   "source": [
    "### 1. Sequential Statements\n",
    "\n",
    "`Sequential statements` are a set of statements whose execution process happens in a sequence. This is the default mode for code execution in Python -- one after another lines of code are executed, from top to bottom.\n",
    "\n",
    "Programs are rarely linear.\n",
    "\n",
    "Most programs do not work by executing a simple sequential set of statements. The code is constructed so that decisions can be made, and different path ways can be taken through the program, based on changes in variable values.\n",
    "\n",
    "To make this non-sequential flow possible all programming language have a set of control structures which allow this to happen.\n",
    "\n",
    "The problem with sequential statements is that if the logic has broken in any one of the lines, then the complete source code execution will break, and stop at that pint of error."
   ]
  },
  {
   "attachments": {},
   "cell_type": "markdown",
   "metadata": {},
   "source": [
    "### 2. Selection / Decision control statements\n",
    "\n",
    "In Python, the `selection statements` are also known as `Decision control statements` or `branching statements`.\n",
    "\n",
    "The selection statement allows a program to test several conditions and execute instructions based on which condition is true. In other words, a decision is made based on some condition, and the program execution code veers off in a specific direction, like a fork in a road.\n",
    "\n",
    "Some Decision Control Statements are:\n",
    "\n",
    "    -   Simple if\n",
    "    -   if-else\n",
    "    -   nested if\n",
    "    -   if-elif-else"
   ]
  },
  {
   "attachments": {},
   "cell_type": "markdown",
   "metadata": {},
   "source": [
    "### 3. Repetition statement\n",
    "\n",
    "A `repetition statement` is used to repeat a group (block) of programming instructions, over and ovr again for a certain pre-determined number of times.\n",
    "\n",
    "In Python, we generally have two loops / repetitive statements:\n",
    "\n",
    "    -   for loop\n",
    "    -   while loop\n",
    "\n",
    "<br>\n",
    "\n",
    "---"
   ]
  },
  {
   "attachments": {},
   "cell_type": "markdown",
   "metadata": {},
   "source": [
    "### Selection / Decision control statements\n",
    "\n",
    "As we said, most programs will require ‘Branching’ constructs of some kind.\n",
    "\n",
    "In Python, the `if`, `elif`, and the `else` statements allow for branching in code."
   ]
  },
  {
   "attachments": {},
   "cell_type": "markdown",
   "metadata": {},
   "source": [
    "`If / Else` statements are used along with the Logical Comparison Operators we looked at earlier.\n",
    "\n",
    "**Logical Comparison Operators**\n",
    "\n",
    "| Operator | Name | Example |\n",
    "|----|----|----|\n",
    "| == | Equal | a == b |\n",
    "| != | Not Equal | a != b |\n",
    "| > | Greater Than | a > b |\n",
    "| < | Less Than | a < b |\n",
    "| >= | Greater than OR equal to | a >= b |\n",
    "| <= | Less than OR equal to | a <= b |\n",
    "\n",
    "<br>\n",
    "\n",
    "#### **The `if` Statement**\n",
    "\n",
    "`if` statements are used to make a logical branching decision in your code; **IF** some or other condition is true, then do certain actions ...\n",
    "\n",
    "The basic format of the if statement is:\n",
    "\n",
    "```python\n",
    "    if expression:      # IF statements are followed by a colon\n",
    "        statement 1     # code statements are indented by 4 spaces\n",
    "        statement 2     # All correctly indented code is part of the IF statement\n",
    "        ...             # indented code-block can contain any number of code lines\n",
    "        statement n     # last indented line indicates the end of the code-block\n",
    "\n",
    "    statement always executed\n",
    "```\n",
    "\n",
    "If the `expression` evaluates to **True**, then the `statements 1 to n` will be executed followed by `statement always executed`. \n",
    "\n",
    "If the `expression` is **False**, only `statement always executed` is executed. \n",
    "\n",
    "Python knows which lines of code are related to the if statement by the indentation, no extra syntax is necessary.\n",
    "\n",
    "In Python 3 indentation is traditionally exactly four (4) spaces."
   ]
  },
  {
   "cell_type": "code",
   "execution_count": null,
   "metadata": {},
   "outputs": [],
   "source": [
    "# Example `if` statement\n",
    "a = 45\n",
    "b = 68\n",
    "\n",
    "if b > a:\n",
    "    print(\"b is greater\")"
   ]
  },
  {
   "cell_type": "code",
   "execution_count": null,
   "metadata": {},
   "outputs": [],
   "source": [
    "print(\"\\nExample 1\\n\")\n",
    "value = 5\n",
    "threshold= 4\n",
    "print(\"value is\", value, \"threshold is \",threshold)\n",
    "\n",
    "if value > threshold :\n",
    "    print(value, \"is bigger than \", threshold)\n",
    "    \n",
    "    \n",
    "print(\"\\nExample 2\\n\")\n",
    "high_threshold = 6\n",
    "print(\"value is\", value, \"new threshold is \",high_threshold)\n",
    "\n",
    "if value > high_threshold :\n",
    "    print(value , \"is above \", high_threshold, \"threshold\")\n",
    "    \n",
    "    \n",
    "print(\"\\nExample 3\\n\")\n",
    "mid_threshold = 5\n",
    "print(\"value is\", value, \"final threshold is \",mid_threshold)\n",
    "\n",
    "if value == mid_threshold :\n",
    "    print(\"value, \", value, \" and threshold,\", mid_threshold, \", are equal\")"
   ]
  },
  {
   "attachments": {},
   "cell_type": "markdown",
   "metadata": {},
   "source": [
    "##### **Challenge Exercise**\n",
    "\n",
    "Add another `if` statement to example 2 above, that will check if `value` is greater than or equal to `threshold`\n",
    "\n",
    "<br>"
   ]
  },
  {
   "attachments": {},
   "cell_type": "markdown",
   "metadata": {},
   "source": [
    "#### **The `if ... elif ...` Statement**\n",
    "\n",
    "A further extension of the `if` statement is the `if ... elif ...` version.\n",
    "\n",
    "The `elif` statement allows you to check multiple expressions for **TRUE** and execute a block of code as soon as one of the conditions evaluates to TRUE.\n",
    "\n",
    "This statement is Pythons's way of saying \"if the previous conditions were not true, then try this next condition\".\n",
    "\n",
    "The `elif` statement is optional and follows the `if` statement. \n",
    "\n",
    "There can be any number of `elif` statements following an `if`.\n",
    "\n",
    "**Syntax: -**\n",
    "\n",
    "```python\n",
    "   if expression1:\n",
    "      statement(s)\n",
    "   elif expression2:\n",
    "      statement(s)\n",
    "   elif expression3:\n",
    "      statement(s)\n",
    "```\n"
   ]
  },
  {
   "cell_type": "code",
   "execution_count": null,
   "metadata": {},
   "outputs": [],
   "source": []
  },
  {
   "attachments": {},
   "cell_type": "markdown",
   "metadata": {},
   "source": [
    "#### **The `else` Statement**\n",
    "\n",
    "Instead of using two separate `if` statements to evaluate different conditions, we can use the `if ... else ...` construct.\n",
    "\n",
    "The `else` statements are used to catch anything that wasn’t already caught by previous conditions.\n",
    "\n",
    "The syntax of the `if...else` statement is −\n",
    "\n",
    "```python\n",
    "    if expression:\n",
    "        statement(s)\n",
    "    else:\n",
    "        statement(s)\n",
    "```\n",
    "\n",
    "An `else` statement is combined with an `if` statement. \n",
    "\n",
    "An `else` statement contains a block of code that executes 'if' the conditional expression in the `if` statement resolves to a 0 or a **FALSE** value.\n",
    "\n",
    "The `else` statement is an optional statement and there can be only one(1) `else` statement following `if`.\n",
    "\n",
    "In any `if` evaluation statement , when an `else` statement is used, `else` is the last statement in the command chain."
   ]
  },
  {
   "cell_type": "code",
   "execution_count": null,
   "metadata": {},
   "outputs": [],
   "source": [
    "# if ... else ...\n",
    "\n",
    "value = 4\n",
    "threshold = 5\n",
    "print(\"value = \", value, \"and threshold = \", threshold)\n",
    "\n",
    "if value > threshold :\n",
    "    print(\"value is above threshold\")\n",
    "else :\n",
    "    print(\"value is below or equal to the threshold\")"
   ]
  },
  {
   "attachments": {},
   "cell_type": "markdown",
   "metadata": {},
   "source": [
    "##### **Combined `if ... elif ... else` Examples ...**\n"
   ]
  },
  {
   "cell_type": "code",
   "execution_count": null,
   "metadata": {},
   "outputs": [],
   "source": [
    "# if ... elif ... else ...\n",
    "\n",
    "number = 11\n",
    "\n",
    "if number > 0:\n",
    "    print(\"Positive number\")\n",
    "elif number == 0:\n",
    "    print('Zero')\n",
    "else:\n",
    "    print('Negative number')\n",
    "\n",
    "print('This statement is always executed')"
   ]
  },
  {
   "cell_type": "code",
   "execution_count": null,
   "metadata": {},
   "outputs": [],
   "source": [
    "# if ... elif ... else ...\n",
    "\n",
    "letter = \"A\"\n",
    "\n",
    "if letter == \"B\":\n",
    "    print(\"letter is B\")\n",
    "\n",
    "elif letter == \"C\":\n",
    "    print(\"letter is C\")\n",
    "\n",
    "elif letter == \"A\":\n",
    "    print(\"letter is A\")\n",
    "\n",
    "else:\n",
    "\tprint(\"letter isn't A, B or C\")\n"
   ]
  },
  {
   "attachments": {},
   "cell_type": "markdown",
   "metadata": {},
   "source": [
    "#### **Nested `if` Statements**\n",
    "\n",
    "There may be a situation when you want to check for another condition after a condition resolves to true. In such a situation, you can use the nested if construct.\n",
    "\n",
    "In a nested if construct, you can have an `if...elif...else` construct inside another `if...elif...else` construct.\n",
    "\n",
    "The syntax of the nested `if...elif...else` construct may be −\n",
    "\n",
    "```python\n",
    "    if expression1:\n",
    "        statement(s)\n",
    "\n",
    "        if expression2:\n",
    "            statement(s)\n",
    "        elif expression3:\n",
    "            statement(s)\n",
    "        else\n",
    "            statement(s)\n",
    "\n",
    "    elif expression4:\n",
    "        statement(s)\n",
    "    else:\n",
    "        statement(s)\n",
    "```\n"
   ]
  },
  {
   "cell_type": "code",
   "execution_count": null,
   "metadata": {},
   "outputs": [],
   "source": [
    "x = 57\n",
    "\n",
    "if x > 10:\n",
    "    print(\"It's above 10,\")\n",
    "    \n",
    "    if x < 20:\n",
    "        print(\"and also below 20.\")\n",
    "    elif x > 20:\n",
    "        print(\"It's also above 20!\")\n",
    "    else:\n",
    "        print(\"It is 20!\")\n",
    "\n",
    "else:\n",
    "    print(\"Weird, it is less than 10.\")"
   ]
  },
  {
   "cell_type": "code",
   "execution_count": null,
   "metadata": {},
   "outputs": [],
   "source": [
    "price = 50\n",
    "quantity = 5\n",
    "amount = price*quantity\n",
    "\n",
    "if amount > 100:\n",
    "    if amount > 500:\n",
    "        print(\"Amount is greater than 500\")\n",
    "    else:\n",
    "        if amount < 500 and amount > 400:\n",
    "            print(\"Amount is\")\n",
    "        elif amount < 500 and amount > 300:\n",
    "            print(\"Amount is between 300 and 500\")\n",
    "        else:\n",
    "            print(\"Amount is between 200 and 500\")\n",
    "            \n",
    "elif amount == 100:\n",
    "    print(\"Amount is 100\")\n",
    "else:\n",
    "    print(\"Amount is less than 100\")\n"
   ]
  },
  {
   "attachments": {},
   "cell_type": "markdown",
   "metadata": {},
   "source": [
    "#### **Using `“And”`**\n",
    "\n",
    "One can combine multiple conditions into a single Python conditional statements using `if`, `if-else` and `elif` statements. This avoids writing multiple nested if statements unnecessarily.\n",
    "\n",
    "To improve efficiency even further, one can use the Python `AND` logical operator to form a compound logical expression.\n",
    "\n",
    "In Python, the `and` is a logical operator that evaluates as True if **Both** the operands in the expression `(x and y)` are True.\n",
    "\n",
    "Note that `and` returns the last evaluated argument. In the case of the `x` and `y` expressions, if `x` is False, its value is returned, otherwise, `y` is evaluated, and it's value is returned.\n",
    "\n",
    "To demonstrate the advantage of the `and` operator, we'll first write a `nested if`, and then a simple if statement with and `and` operator that does the same as the nested if statement...\n"
   ]
  },
  {
   "cell_type": "code",
   "execution_count": null,
   "metadata": {},
   "outputs": [],
   "source": [
    "a = 5\n",
    "b = 2\n",
    "\n",
    "#nested if\n",
    "if a==5:\n",
    "    if b>0:\n",
    "        print('a is 5 and',b,'is greater than zero.')\n",
    "\t\t\n",
    "#or you can combine the conditions as\n",
    "if a==5 and b>0:\n",
    "    print('a is 5 and',b,'is greater than zero.')"
   ]
  },
  {
   "cell_type": "code",
   "execution_count": null,
   "metadata": {},
   "outputs": [],
   "source": [
    "a = 200\n",
    "b = 33\n",
    "c = 500\n",
    "\n",
    "if a > b and c > a:\n",
    "    print(\"Both conditions are True\")\n"
   ]
  },
  {
   "cell_type": "code",
   "execution_count": null,
   "metadata": {},
   "outputs": [],
   "source": [
    "a = 8\n",
    "\n",
    "if a<0:\n",
    "    print('a is less than zero.')\n",
    "elif a>0 and a<8:\n",
    "    print('a is between 0 and 8')\n",
    "elif a>7 and a<15:\n",
    "    print('a is between 7 and 15')"
   ]
  },
  {
   "cell_type": "code",
   "execution_count": null,
   "metadata": {},
   "outputs": [],
   "source": [
    "int_a = 11\n",
    "int_b = 33\n",
    "str_c = 'Python'\n",
    "\n",
    "if (int_b == 33) and (int_a == 20) and (str_c == 'Python'):\n",
    "    print(\"All are True\")\n",
    "else:\n",
    "    print(\"All or anyone is False\")"
   ]
  },
  {
   "attachments": {},
   "cell_type": "markdown",
   "metadata": {},
   "source": [
    "#### **Using `“Or”`**\n",
    "\n",
    "The `or` in Python is a logical operator that evaluates as **True** if _ANY_ of the operands is True, unlike the `and` operator where **ALL** operands have to be True.\n",
    "\n",
    "To understand this concept of the `OR` operator, have a look at the following example.... \n",
    "\n",
    "Suppose we have (x or y).\n",
    "\n",
    "The `OR` operator will only evaluate the `y` if `x` is False. If `x` was True, it will not check `y`, and simply return True.\n",
    "\n",
    "For the evaluation of `(x or y)` to return a False value, both `x` and `y` have to evaluate to False."
   ]
  },
  {
   "cell_type": "code",
   "execution_count": null,
   "metadata": {},
   "outputs": [],
   "source": [
    "#How OR works - Demo\n",
    "x = False\n",
    "y = 30\n",
    "\n",
    "a = True\n",
    "b = 30\n",
    "\n",
    "# x is False so y should evaluate\n",
    "print(x or y)\n",
    "\n",
    "# a is True - No need to evaluate b\n",
    "print(a or b)"
   ]
  },
  {
   "cell_type": "code",
   "execution_count": null,
   "metadata": {},
   "outputs": [],
   "source": [
    "#Multiple OR operator example\n",
    "\n",
    "var_a = 'Cool'\n",
    "var_b = 33\n",
    "var_c = 'Python'\n",
    "\n",
    "if (var_a == 'cool') or (var_b == 20) or (var_c == 'Python'):\n",
    "    print(\"If statement is True\")\n",
    "else:\n",
    "    print(\"All are False\")"
   ]
  },
  {
   "cell_type": "code",
   "execution_count": null,
   "metadata": {},
   "outputs": [],
   "source": [
    "a = 200\n",
    "b = 33\n",
    "c = 500\n",
    "\n",
    "if a > b or a > c:\n",
    "    print(\"At least one of the conditions is True\")\n"
   ]
  },
  {
   "attachments": {},
   "cell_type": "markdown",
   "metadata": {},
   "source": [
    "\n",
    "---\n",
    "\n",
    "### Repetition statements\n",
    "\n"
   ]
  }
 ],
 "metadata": {
  "kernelspec": {
   "display_name": "Python 3",
   "language": "python",
   "name": "python3"
  },
  "language_info": {
   "codemirror_mode": {
    "name": "ipython",
    "version": 3
   },
   "file_extension": ".py",
   "mimetype": "text/x-python",
   "name": "python",
   "nbconvert_exporter": "python",
   "pygments_lexer": "ipython3",
   "version": "3.10.7"
  },
  "orig_nbformat": 4,
  "vscode": {
   "interpreter": {
    "hash": "369f2c481f4da34e4445cda3fffd2e751bd1c4d706f27375911949ba6bb62e1c"
   }
  }
 },
 "nbformat": 4,
 "nbformat_minor": 2
}
