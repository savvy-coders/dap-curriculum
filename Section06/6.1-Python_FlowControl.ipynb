{
 "cells": [
  {
   "attachments": {},
   "cell_type": "markdown",
   "metadata": {},
   "source": [
    "# Python Logical Flow Control\n",
    "\n",
    "The OBJECTIVES of This Section: Learn about ...\n",
    "\n",
    "- Logical Flow Control and the types of control structures\n",
    "- If and Else statements\n",
    "    - Comparison Operators\n",
    "    - Logic Operators\n",
    "- Looping structures\n",
    "- The range() method in Python\n",
    "\n",
    "<br>\n",
    "\n",
    "---\n",
    "\n",
    "<br>"
   ]
  },
  {
   "attachments": {},
   "cell_type": "markdown",
   "metadata": {},
   "source": [
    "## Logical Flow Control\n",
    "\n",
    "A program’s control flow is the order in which the program’s code executes.\n",
    "\n",
    "The control flow of a Python program is regulated by conditional statements, loops, and function calls.\n",
    "\n",
    "The power of a language like Python comes largely from the variety of ways these basic statements can be combined.\n",
    "\n",
    "### Python has three types of control structures:\n",
    "\n",
    "- **Sequential** - Sequential statements are a set of statements whose execution process happens in a sequence.\n",
    "\n",
    "- **Selection** - selection statements are also known as Decision control statements or branching statements. This allows a program to test several conditions and execute instructions based on which condition is true.\n",
    "\n",
    "- **Repetition** - A repetition statement is used used for looping, i.e., to repeat a group (block) of programming instructions, multiple times.\n",
    "\n"
   ]
  },
  {
   "attachments": {},
   "cell_type": "markdown",
   "metadata": {},
   "source": [
    "### 1. Sequential Statements\n",
    "\n",
    "`Sequential statements` are a set of statements whose execution process happens in a sequence. This is the default mode for code execution in Python -- one after another lines of code are executed, from top to bottom.\n",
    "\n",
    "Programs are rarely linear.\n",
    "\n",
    "Most programs do not work by executing a simple sequential set of statements. The code is constructed so that decisions can be made, and different path ways can be taken through the program, based on changes in variable values.\n",
    "\n",
    "To make this non-sequential flow possible all programming language have a set of control structures which allow this to happen.\n",
    "\n",
    "The problem with sequential statements is that if the logic has broken in any one of the lines, then the complete source code execution will break, and stop at that pint of error."
   ]
  },
  {
   "attachments": {},
   "cell_type": "markdown",
   "metadata": {},
   "source": [
    "### 2. Selection / Decision control statements\n",
    "\n",
    "In Python, the `selection statements` are also known as `Decision control statements` or `branching statements`.\n",
    "\n",
    "The selection statement allows a program to test several conditions and execute instructions based on which condition is true. In other words, a decision is made based on some condition, and the program execution code veers off in a specific direction, like a fork in a road.\n",
    "\n",
    "Some Decision Control Statements are:\n",
    "\n",
    "    -   Simple if\n",
    "    -   if-else\n",
    "    -   nested if\n",
    "    -   if-elif-else"
   ]
  },
  {
   "attachments": {},
   "cell_type": "markdown",
   "metadata": {},
   "source": [
    "### 3. Repetition statement\n",
    "\n",
    "A `repetition statement` is used to repeat a group (block) of programming instructions, over and ovr again for a certain pre-determined number of times.\n",
    "\n",
    "In Python, we generally have two loops / repetitive statements:\n",
    "\n",
    "    -   while loop\n",
    "    -   for loop\n",
    "\n",
    "To enhance and maximize repetitive actions in Python, we often combined loops, nest loops in other loops, and use `break` and `else` statements.\n",
    "\n",
    "One last repetitive structure we use in Python is the `range()` function.\n",
    "\n",
    "<br>\n",
    "\n",
    "---"
   ]
  },
  {
   "attachments": {},
   "cell_type": "markdown",
   "metadata": {},
   "source": [
    "### Selection / Decision control statements\n",
    "\n",
    "As we said, most programs will require ‘Branching’ constructs of some kind.\n",
    "\n",
    "In Python, the `if`, `elif`, and the `else` statements allow for branching in code."
   ]
  },
  {
   "attachments": {},
   "cell_type": "markdown",
   "metadata": {},
   "source": [
    "`If / Else` statements are used along with the Logical Comparison Operators we looked at earlier.\n",
    "\n",
    "**Comparison Operators**\n",
    "\n",
    "| Operator | Name | Example |\n",
    "|----|----|----|\n",
    "| == | **Equal** | a == b |\n",
    "| != | Not Equal | a != b |\n",
    "| > | Greater Than | a > b |\n",
    "| < | Less Than | a < b |\n",
    "| >= | Greater than OR equal to | a >= b |\n",
    "| <= | Less than OR equal to | a <= b |\n",
    "\n",
    "<br>\n",
    "\n",
    "> Warning It is a common error to use only one equal sign when you mean to test for equality. **Equality tests need 2x equal signs**. One equal sign is used to make an assignment!\n",
    "\n",
    "<br>\n",
    "\n",
    "#### **The `if` Statement**\n",
    "\n",
    "`if` statements are used to make a logical branching decision in your code:- **IF** some or other condition is true, then do certain actions ...\n",
    "\n",
    "The basic format of the if statement is:\n",
    "\n",
    "```python\n",
    "    if expression:      # IF statements are followed by a colon\n",
    "        statement 1     # code statements are indented by 4 spaces\n",
    "        statement 2     # All correctly indented code is part of the IF statement\n",
    "        ...             # indented code-block can contain any number of code lines\n",
    "        statement n     # last indented line indicates the end of the code-block\n",
    "\n",
    "    statement always executed\n",
    "```\n",
    "\n",
    "In the code above, if the `expression` evaluates to **True**, then the `statements 1 to n` will be executed, followed by `statement always executed`. \n",
    "\n",
    "If the `expression` is **False**, only `statement always executed` is executed. \n",
    "\n",
    "Python knows which lines of code are related to the if statement by the indentation, no extra syntax is necessary.\n",
    "\n",
    "In Python 3 indentation is traditionally exactly four (4) spaces."
   ]
  },
  {
   "cell_type": "code",
   "execution_count": null,
   "metadata": {},
   "outputs": [],
   "source": [
    "# Example `if` statement\n",
    "a = 45\n",
    "b = 68\n",
    "\n",
    "if b > a:\n",
    "    print(\"b is greater\")"
   ]
  },
  {
   "cell_type": "code",
   "execution_count": null,
   "metadata": {},
   "outputs": [],
   "source": [
    "print(\"\\nExample 1\\n\")\n",
    "value = 5\n",
    "threshold= 4\n",
    "print(\"value is\", value, \"threshold is \",threshold)\n",
    "\n",
    "if value > threshold :\n",
    "    print(value, \"is bigger than \", threshold)\n",
    "    \n",
    "    \n",
    "print(\"\\nExample 2\\n\")\n",
    "high_threshold = 6\n",
    "print(\"value is\", value, \"new threshold is \",high_threshold)\n",
    "\n",
    "if value > high_threshold :\n",
    "    print(value , \"is above \", high_threshold, \"threshold\")\n",
    "    \n",
    "    \n",
    "print(\"\\nExample 3\\n\")\n",
    "mid_threshold = 5\n",
    "print(\"value is\", value, \"final threshold is \",mid_threshold)\n",
    "\n",
    "if value == mid_threshold :\n",
    "    print(\"value, \", value, \" and threshold,\", mid_threshold, \", are equal\")"
   ]
  },
  {
   "attachments": {},
   "cell_type": "markdown",
   "metadata": {},
   "source": [
    "<br>\n",
    "\n",
    "##### **Challenge Exercise**\n",
    "\n",
    "Add another `if` statement to example 2 above:-\n",
    "\n",
    "- Check if `value` is greater than or equal to `threshold`, \n",
    "- And if so, print out that the value x is greater than or equal to the threshold y.\n",
    "\n",
    "<br>"
   ]
  },
  {
   "attachments": {},
   "cell_type": "markdown",
   "metadata": {},
   "source": [
    "#### **The `else` Statement**\n",
    "\n",
    "Instead of using two separate `if` statements to evaluate different conditions, we can use the `if ... else ...` construct.\n",
    "\n",
    "The `else` statements are used to catch anything that wasn’t already caught by previous conditions.\n",
    "\n",
    "The syntax of the `if...else` statement is:−\n",
    "\n",
    "```python\n",
    "    if expression:\n",
    "        statement(s)\n",
    "    else:\n",
    "        statement(s)\n",
    "```\n",
    "\n",
    "An `else` statement is combined with an `if` statement. \n",
    "\n",
    "An `else` statement contains a block of code that executes 'if' the conditional expression in the `if` statement resolves to a 0 or a **FALSE** value.\n",
    "\n",
    "The `else` statement is an optional statement and there can be only one(1) `else` statement following `if`.\n",
    "\n",
    "In any `if` evaluation statement , when an `else` statement is used, `else` is the last statement in the command chain."
   ]
  },
  {
   "cell_type": "code",
   "execution_count": null,
   "metadata": {},
   "outputs": [],
   "source": [
    "# if ... else ...\n",
    "\n",
    "value = 4\n",
    "threshold = 5\n",
    "print(\"value = \", value, \"and threshold = \", threshold)\n",
    "\n",
    "if value > threshold :\n",
    "    print(\"value is above threshold\")\n",
    "else :\n",
    "    print(\"value is below or equal to the threshold\")"
   ]
  },
  {
   "attachments": {},
   "cell_type": "markdown",
   "metadata": {},
   "source": [
    "<br>\n",
    "\n",
    "#### **The `if ... elif ...` Statement**\n",
    "\n",
    "Often you want to distinguish between more than two choices, but conditionals only have two possible results, True or False. So, the only direct choice is between two options.\n",
    "\n",
    "If there are more than two choices, a single conditional test is not enough to evaluate all the options.\n",
    "\n",
    "A further extension of the `if` statement is the `if ... elif ...` version.\n",
    "\n",
    "The `elif` statement allows you to check multiple expressions for **TRUE** and execute a block of code as soon as one of the conditions evaluates to TRUE.\n",
    "\n",
    "This statement is Pythons's way of saying \"if the previous conditions were not true, then try this next condition\".\n",
    "\n",
    "The `elif` statement is optional and follows the `if` statement. \n",
    "\n",
    "There can be any number of `elif` statements following an `if`.\n",
    "\n",
    "**Syntax: -**\n",
    "\n",
    "```python\n",
    "   if expression1:\n",
    "      statement(s)\n",
    "   elif expression2:\n",
    "      statement(s)\n",
    "   elif expression3:\n",
    "      statement(s)\n",
    "   elif expression4:\n",
    "      statement(s)\n",
    "      \n",
    "   ...\n",
    "   elif expressionN:\n",
    "      statement(s)\n",
    "```\n"
   ]
  },
  {
   "cell_type": "code",
   "execution_count": null,
   "metadata": {},
   "outputs": [],
   "source": [
    "# Calculate a letter grade score with IF ... ELSE\n",
    "score = 76\n",
    "\n",
    "if score >= 90: # grade is an A\n",
    "    letter = 'A'\n",
    "else:   # grade must be B, C, D or F\n",
    "    if score >= 80:\n",
    "        letter = 'B'\n",
    "    else:  # grade must be C, D or F\n",
    "        if score >= 70:\n",
    "            letter = 'C'\n",
    "        else:    # grade must D or F\n",
    "            if score >= 60:\n",
    "                letter = 'D'\n",
    "            else:\n",
    "                letter = 'F'\n",
    "print(\"The score is: - \", letter)"
   ]
  },
  {
   "attachments": {},
   "cell_type": "markdown",
   "metadata": {},
   "source": [
    "The above code, using `IF ... ELSE`, is cumbersome, hard to read, and a pain to maintain.\n",
    "\n",
    "We can do better!\n",
    "\n",
    "Below is the same code using the `IF ... ELIF` construct."
   ]
  },
  {
   "cell_type": "code",
   "execution_count": null,
   "metadata": {},
   "outputs": [],
   "source": [
    "# Calculate the letter grade score with IF ... ELIF\n",
    "score = 76\n",
    "\n",
    "if score >= 90:\n",
    "    letter = 'A'\n",
    "elif score >= 80:\n",
    "    letter = 'B'\n",
    "elif score >= 70:\n",
    "    letter = 'C'\n",
    "elif score >= 60:\n",
    "    letter = 'D'\n",
    "else:\n",
    "    letter = 'F'\n",
    "    \n",
    "print(\"The score is: - \", letter)"
   ]
  },
  {
   "attachments": {},
   "cell_type": "markdown",
   "metadata": {},
   "source": [
    "<br>\n",
    "\n",
    "#### **Nested `if` Statements**\n",
    "\n",
    "There may be a situation when you want to check for another condition -- or several other conditions -- after a condition resolves to true. In such a situation, you can use the nested `if` construct.\n",
    "\n",
    "In a nested if construct, you can have an `if...elif...else` construct inside another `if...elif...else` construct.\n",
    "\n",
    "The syntax of the nested `if...elif...else` construct may be similar to this:−\n",
    "\n",
    "```python\n",
    "    if expression1:\n",
    "        statement(s)\n",
    "\n",
    "        if expression2:\n",
    "            statement(s)\n",
    "        elif expression3:\n",
    "            statement(s)\n",
    "        else\n",
    "            statement(s)\n",
    "\n",
    "    elif expression4:\n",
    "        statement(s)\n",
    "    else:\n",
    "        statement(s)\n",
    "```\n"
   ]
  },
  {
   "cell_type": "code",
   "execution_count": null,
   "metadata": {},
   "outputs": [],
   "source": [
    "x = 57\n",
    "\n",
    "if x > 10:\n",
    "    print(\"It's above 10,\")\n",
    "    \n",
    "    if x < 20:\n",
    "        print(\"and also below 20.\")\n",
    "    elif x > 20:\n",
    "        print(\"It's also above 20!\")\n",
    "    else:\n",
    "        print(\"It is 20!\")\n",
    "\n",
    "else:\n",
    "    print(\"Weird, it is less than 10.\")"
   ]
  },
  {
   "cell_type": "code",
   "execution_count": null,
   "metadata": {},
   "outputs": [],
   "source": [
    "price = 50\n",
    "quantity = 5\n",
    "amount = price*quantity\n",
    "\n",
    "if amount > 100:\n",
    "    if amount > 500:\n",
    "        print(\"Amount is greater than 500\")\n",
    "    else:\n",
    "        if amount < 500 and amount > 400:\n",
    "            print(\"Amount is\")\n",
    "        elif amount < 500 and amount > 300:\n",
    "            print(\"Amount is between 300 and 500\")\n",
    "        else:\n",
    "            print(\"Amount is between 200 and 500\")\n",
    "            \n",
    "elif amount == 100:\n",
    "    print(\"Amount is 100\")\n",
    "else:\n",
    "    print(\"Amount is less than 100\")\n"
   ]
  },
  {
   "attachments": {},
   "cell_type": "markdown",
   "metadata": {},
   "source": [
    "<br>\n",
    "\n",
    "### The Logic Operations `'and'` and `'or'`\n",
    "\n",
    "#### **Using `“And”`**\n",
    "\n",
    "One can combine multiple conditions into a single Python conditional statements using `if`, `if-else` and `elif` statements. This avoids writing multiple nested if statements unnecessarily.\n",
    "\n",
    "To improve efficiency even further, one can use the Python `AND` logical operator to form a compound logical expression.\n",
    "\n",
    "In Python, the `and` is a logical operator that evaluates as True if **Both** the operands in the expression `(x and y)` are True.\n",
    "\n",
    "Note that `and` returns the last evaluated argument. In the case of the `x` and `y` expressions, if `x` is False, its value is returned, otherwise, `y` is evaluated, and it's value is returned.\n",
    "\n",
    "To demonstrate the advantage of the `and` operator, we'll first write a `nested if`, and then a simple if statement with and `and` operator that does the same as the nested if statement...\n"
   ]
  },
  {
   "cell_type": "code",
   "execution_count": null,
   "metadata": {},
   "outputs": [],
   "source": [
    "a = 5\n",
    "b = 2\n",
    "\n",
    "#nested if\n",
    "if a==5:\n",
    "    if b>0:\n",
    "        print('a is 5 and',b,'is greater than zero.')\n",
    "\t\t\n",
    "#or you can combine the conditions as\n",
    "if a==5 and b>0:\n",
    "    print('a is 5 and',b,'is greater than zero.')"
   ]
  },
  {
   "cell_type": "code",
   "execution_count": null,
   "metadata": {},
   "outputs": [],
   "source": [
    "a = 200\n",
    "b = 33\n",
    "c = 500\n",
    "\n",
    "if a > b and c > a:\n",
    "    print(\"Both conditions are True\")\n"
   ]
  },
  {
   "cell_type": "code",
   "execution_count": null,
   "metadata": {},
   "outputs": [],
   "source": [
    "a = 8\n",
    "\n",
    "if a<0:\n",
    "    print('a is less than zero.')\n",
    "elif a>0 and a<8:\n",
    "    print('a is between 0 and 8')\n",
    "elif a>7 and a<15:\n",
    "    print('a is between 7 and 15')"
   ]
  },
  {
   "cell_type": "code",
   "execution_count": null,
   "metadata": {},
   "outputs": [],
   "source": [
    "int_a = 11\n",
    "int_b = 33\n",
    "str_c = 'Python'\n",
    "\n",
    "if (int_b == 33) and (int_a == 20) and (str_c == 'Python'):\n",
    "    print(\"All are True\")\n",
    "else:\n",
    "    print(\"All or anyone is False\")"
   ]
  },
  {
   "attachments": {},
   "cell_type": "markdown",
   "metadata": {},
   "source": [
    "<br>\n",
    "\n",
    "#### **Using `“Or”`**\n",
    "\n",
    "The `or` in Python is a logical operator that evaluates as **True** if _ANY_ of the operands is True, unlike the `and` operator where **ALL** operands have to be True.\n",
    "\n",
    "To understand this concept of the `OR` operator, have a look at the following example.... \n",
    "\n",
    "Suppose we have (x or y).\n",
    "\n",
    "The `OR` operator will only evaluate the `y` if `x` is False. If `x` was True, it will not check `y`, and simply return True.\n",
    "\n",
    "For the evaluation of `(x or y)` to return a False value, both `x` and `y` have to evaluate to False."
   ]
  },
  {
   "cell_type": "code",
   "execution_count": null,
   "metadata": {},
   "outputs": [],
   "source": [
    "#How OR works - Demo\n",
    "x = False\n",
    "y = 30\n",
    "\n",
    "a = True\n",
    "b = 30\n",
    "\n",
    "# x is False so y should evaluate\n",
    "print(x or y)\n",
    "\n",
    "# a is True - No need to evaluate b\n",
    "print(a or b)"
   ]
  },
  {
   "cell_type": "code",
   "execution_count": null,
   "metadata": {},
   "outputs": [],
   "source": [
    "#  if using OR\n",
    "a = 200\n",
    "b = 33\n",
    "c = 500\n",
    "\n",
    "if a > b or a > c:\n",
    "    print(\"At least one of the conditions is True\")"
   ]
  },
  {
   "cell_type": "code",
   "execution_count": null,
   "metadata": {},
   "outputs": [],
   "source": [
    "#Multiple OR operator example\n",
    "\n",
    "var_a = 'Cool'\n",
    "var_b = 33\n",
    "var_c = 'Python'\n",
    "\n",
    "if (var_a == 'cool') or (var_b == 20) or (var_c == 'Python'):\n",
    "    print(\"If statement is True\")\n",
    "else:\n",
    "    print(\"All are False\")"
   ]
  },
  {
   "attachments": {},
   "cell_type": "markdown",
   "metadata": {},
   "source": [
    "<br>\n",
    "\n",
    "---\n",
    "\n",
    "### Repetition statements\n",
    "\n",
    "#### While Loops\n",
    "\n",
    "The `while` loop represents a generic iteration mechanism.\n",
    "\n",
    "```python\n",
    "    while <Boolean expression>:\n",
    "        <block of code>\n",
    "```\n",
    "\n",
    "**Execution:**\n",
    "- Perform a test (evaluate the `<Boolean expression>`).\n",
    "- If the test evaluates to **True**, executes the loop body (`<block of code>`) once, and return back to reevaluate the test.\n",
    "- Repeat this process until the test evaluates to **False**; then pass the control to the code following the while statement.\n",
    "\n"
   ]
  },
  {
   "cell_type": "code",
   "execution_count": null,
   "metadata": {},
   "outputs": [],
   "source": [
    "# Using a While loop - compute the square of an integer number \n",
    "# Do this by adding num-times the value of num\n",
    "\n",
    "num = 4\n",
    "ans = 0\n",
    "iters_left = num\n",
    "\n",
    "while iters_left != 0:\n",
    "    ans = ans + num\n",
    "    iters_left = iters_left - 1\n",
    "    \n",
    "print(\"The number is ...\", num)\n",
    "print(\"The square of the number is ...\", ans)"
   ]
  },
  {
   "attachments": {},
   "cell_type": "markdown",
   "metadata": {},
   "source": [
    "#### For Loops\n",
    "\n",
    "The general form of a for statement is as follows:\n",
    "\n",
    "```python\n",
    "    for <variable> in <sequence>:\n",
    "        <code_block>\n",
    "```\n",
    "\n",
    "**Execution:**\n",
    "- The `<variable>` following `for` is bound to the first value in the `<sequence>`, and the `<code_block>` is executed.\n",
    "- The `<variable>` is then assigned the second value in the `<sequence>`, and the `<code_block>` is executed again.\n",
    "- The process continues until the sequence is exhausted, or a `break` statement is executed within the code block.\n",
    "\n",
    "**For or For-each?**\n",
    "\n",
    "A good way of thinking about the for-loop is to actually read it as `for each` like this:-\n",
    "    \n",
    "        for each item in a set (or in a sequence, or in a collection):\n",
    "        \n",
    "            do something with the item"
   ]
  },
  {
   "cell_type": "code",
   "execution_count": null,
   "metadata": {},
   "outputs": [],
   "source": [
    "#  The for-loop can be used to iterate over characters of a string\n",
    "\n",
    "string1 = '123456789'\n",
    "\n",
    "sum = 0\n",
    "for char in string1:\n",
    "    sum += int(char)\n",
    "print(sum)"
   ]
  },
  {
   "cell_type": "code",
   "execution_count": null,
   "metadata": {},
   "outputs": [],
   "source": [
    "#  Iterating over tuples and lists\n",
    "\n",
    "for i in [1, 2, 3]:\n",
    "    print(2*i, end=', ')\n",
    "    \n",
    "for word in ['Hello!', 'Ciao!', 'Hi!']:\n",
    "    print(word.upper(), end=', ')"
   ]
  },
  {
   "cell_type": "markdown",
   "metadata": {},
   "source": [
    "#### Nested Loops\n",
    "\n"
   ]
  },
  {
   "cell_type": "markdown",
   "metadata": {},
   "source": [
    "#### Using Break and Continue\n",
    "\n",
    "The break and continue statements change the flow of control in for- and while-loops.\n",
    "\n",
    "##### **The `break` statement**\n",
    "\n",
    "When the `break` command is issued inside a loop, it ends the innermost loop prematurely, passing control to the code right after the loop.\n",
    "\n",
    "Often it may be convenient to construct an infinite while-loop by starting it with while True:, and ending the cycle by calling break when some condition is satisfied inside the loop.\n"
   ]
  },
  {
   "cell_type": "code",
   "execution_count": null,
   "metadata": {},
   "outputs": [],
   "source": [
    "#  Using break to find the first occurrence of a char in a string\n",
    "\n",
    "string = 'Bananarama'\n",
    "char_to_find = 'r'\n",
    "pos = None\n",
    "\n",
    "for i, c in enumerate(string):\n",
    "    if c == char_to_find:\n",
    "        pos = i\n",
    "        break\n",
    "print(\"Index position = \", pos)"
   ]
  },
  {
   "cell_type": "code",
   "execution_count": null,
   "metadata": {},
   "outputs": [],
   "source": [
    "#  Using break statement to exhaustively search for a cube root of a non-negative integer\n",
    "\n",
    "def cube_root(number):\n",
    "    for guess in range(number+1):\n",
    "        if guess**3 >= number+1:\n",
    "            break\n",
    "        if guess**3 == number:\n",
    "            return guess\n",
    "        else:\n",
    "            continue\n",
    "\n",
    "print(cube_root(-8))"
   ]
  },
  {
   "cell_type": "markdown",
   "metadata": {},
   "source": [
    "##### **The `continue` statement**\n",
    "\n",
    "When the `continue` command is issued inside a loop, the current iteration is interrupted by skipping the rest of the loop code block, and transferring control to the beginning of the next iteration.\n",
    "\n",
    "In other words, in the case of a for-loop, the control variable is bound to the next item of the sequence.\n",
    "\n",
    "In the case of while-loop, the test is re-evaluated, and the next iteration is started.\n",
    "\n",
    "Very often, it is convenient to use `continue` to filter out the iterations for which the loop should not be executed."
   ]
  },
  {
   "cell_type": "code",
   "execution_count": null,
   "metadata": {},
   "outputs": [],
   "source": [
    "#  Using continue to filter out iterations for numbers divisible by 2 or 3\n",
    "\n",
    "for i in range(15):\n",
    "    if i % 2 == 0 or i % 3 == 0:\n",
    "        continue\n",
    "    print(i, end=',')"
   ]
  },
  {
   "cell_type": "code",
   "execution_count": null,
   "metadata": {},
   "outputs": [],
   "source": [
    "#  Using continue to select the uppercase letters only\n",
    "\n",
    "thing = \"Something Posing As Meat\"\n",
    "\n",
    "for char in thing:\n",
    "    if not char.isupper(): continue\n",
    "    print(char, end='')"
   ]
  },
  {
   "attachments": {},
   "cell_type": "markdown",
   "metadata": {},
   "source": [
    "\n",
    "\n",
    "#### Using Else\n",
    "\n",
    "The `else` keyword in a for loop specifies a block of code to be executed when the loop is finished:\n",
    "\n",
    "```python\n",
    "    for x in range(10):\n",
    "        print(x)\n",
    "    else:\n",
    "        print(“Finally finished!”)\t\n",
    "```\n",
    "\n"
   ]
  },
  {
   "cell_type": "markdown",
   "metadata": {},
   "source": [
    "#### Using the `range()` function as a Loop\n",
    "\n",
    "The `range()` function in Python returns a sequence of numbers, starting from 0 by default, in increments of 1 (by default), and ends at a specified number (not including that number).\n",
    "\n",
    "`range()` can be used to generate a sequence of numbers from 0 to 3 like so...\n",
    "\n",
    "```python\n",
    "    for i in range(4):\n",
    "        print(i)\n",
    "```\n",
    ">   The output would be ... 0, 1, 2, 3\n",
    "\n",
    "**Starting & Ending Values** -- It is possible to specify the starting and ending values of a range by adding a parameter, telling python to start at that first number and go to the second number (but not include it):\n",
    "\n",
    "```python\n",
    "    for i in range(2,6):\n",
    "        print(i)\n",
    "```\n",
    "> The output would be ... 2, 3, 4, 5\n",
    "\n",
    "**Increment Value** -- It is also possible to specify the increment value for the steps in a range by adding a third parameter:\n",
    "\n",
    "```python\n",
    "    for i in range(2, 50, 5):\n",
    "        print(i)\n",
    "```\n",
    "> The output would be ... 2, 7, 12, 17, 22, 27, 32, 37, 42, 47\n",
    "\n",
    "The range function is a generator, i.e. it does not produce the whole sequence when called; rather, it generates the next number of the sequence when asked. \n",
    "\n",
    "To collect all the numbers of the sequence, we need to enclose the call to `range()` in a list."
   ]
  },
  {
   "cell_type": "code",
   "execution_count": null,
   "metadata": {},
   "outputs": [],
   "source": [
    "#  Capturing the range in a list\n",
    "\n",
    "print(list(range(10)))\n",
    "\n",
    "start, end, step = 13, 2, -3\n",
    "print(list(range(start, end, step)))"
   ]
  },
  {
   "attachments": {},
   "cell_type": "markdown",
   "metadata": {},
   "source": [
    "<br>\n",
    "\n",
    "---\n",
    "\n",
    "### Class Practice\n",
    "\n",
    "In your Class_Activities Folder / Repo, create a new file (ipynb or py) and call it `looping`\n",
    "\n",
    "\n"
   ]
  }
 ],
 "metadata": {
  "kernelspec": {
   "display_name": "Python 3",
   "language": "python",
   "name": "python3"
  },
  "language_info": {
   "codemirror_mode": {
    "name": "ipython",
    "version": 3
   },
   "file_extension": ".py",
   "mimetype": "text/x-python",
   "name": "python",
   "nbconvert_exporter": "python",
   "pygments_lexer": "ipython3",
   "version": "3.10.7"
  },
  "orig_nbformat": 4,
  "vscode": {
   "interpreter": {
    "hash": "369f2c481f4da34e4445cda3fffd2e751bd1c4d706f27375911949ba6bb62e1c"
   }
  }
 },
 "nbformat": 4,
 "nbformat_minor": 2
}
