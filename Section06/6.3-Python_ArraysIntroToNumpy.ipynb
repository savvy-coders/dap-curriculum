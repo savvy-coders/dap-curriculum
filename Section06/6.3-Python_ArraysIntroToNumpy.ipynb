{
 "cells": [
  {
   "cell_type": "markdown",
   "metadata": {},
   "source": [
    "# Data Analytics\n",
    "\n",
    "## Python Arrays, and Intro to NumPy\n",
    "\n",
    "We are going to learn about ...\n",
    "\n",
    "- Python and Arrays\n",
    "- An introduction to NumPy\n",
    "\n",
    "<br>\n",
    "\n",
    "---\n",
    "\n",
    "<br>"
   ]
  },
  {
   "cell_type": "markdown",
   "metadata": {},
   "source": [
    "### What is an Array?\n",
    "\n",
    "An array is basically a data structure which can hold more than one value at a time. It is a collection or ordered series of elements of the same type.\n",
    "\n",
    "An array is a collection of items stored at contiguous memory locations. The idea is to store multiple items of the same type together. \n",
    "\n",
    "This makes it easier to calculate the position of each element in memory, by simply adding an offset to a base value, i.e., the memory location of the first element of the array (generally denoted by the name of the array).\n",
    "\n",
    "If you have a list of items (a list of car names, for example), storing the cars in single variables could look like this:\n",
    "\n",
    "```python\n",
    "    car1 = \"Ford\"\n",
    "    car2 = \"Volvo\"\n",
    "    car3 = \"BMW\"\n",
    "```\n",
    "\n",
    "However, what if you want to loop through the cars and find a specific one? And what if you had not 3 cars, but 300?\n",
    "\n",
    "The solution is an array!\n",
    "\n",
    "An array can hold many values -- in square brackets -- under a single name, and you can access the values by referring to an index number.\n",
    "\n",
    "```python\n",
    "    # Create an array containing car names\n",
    "    cars = [\"Ford\", \"Volvo\", \"BMW\"]\n",
    "```\n",
    "\n",
    "_Arrays are most useful when we have to manipulate values of only one specific data type_. \n",
    "\n",
    "> Python does not have built-in support for Arrays, but there are other ways to implement the benefits of Arrays.\n",
    "\n",
    "Arrays could be handled in Python by a module named `array`. If we create arrays using the `array` module, all elements of the array must be of the same data type.\n",
    "\n",
    "We will not examine the `Array` module any further as it's complexities are beyond the scope of this curriculum.\n",
    "\n",
    "We could also treat `list`s as arrays. _However, lists and arrays are not the same thing._\n",
    "\n",
    "#### What's the Difference between Python Lists and Python Arrays?\n",
    "\n",
    "Lists and arrays behave similarly. Just like lists, arrays are an ordered sequence of elements. Both are also mutable and not fixed in size, which means iItems can be added and removed, making them very flexible to work with.\n",
    "\n",
    "The difference lies in the data types that can be stored: Lists store items that are of various data types, while arrays store only elements of the same data type.\n",
    "\n",
    "If you would like to read more about the Python array method, here is a FreeCodeCamp.com article on the topic ... [Python Array Tutorial – Define, Index, Methods](https://www.freecodecamp.org/news/python-array-tutorial-define-index-methods/)\n",
    "\n",
    "<br>\n",
    "\n",
    "### Review: Python Lists:\n",
    "\n",
    "Python Lists, like arrays in other programming languages, can be used to store multiple items in a single variable.\n",
    "\n",
    "**A `List` is an ordered sequence of values separated by commas, and enclosed in square brackets `[ ]`.**\n",
    "\n",
    "```python\n",
    "    fruitList = [\"apple\", \"banana\", \"cherry\"]\n",
    "```\n",
    "\n",
    "#### List Items \n",
    "\n",
    "- List items are ordered, changeable, and allow duplicate values.\n",
    "- When we say that lists are ordered, it means that the items have a defined order, and that order will generally  not change.\n",
    "- The list is changeable, meaning that we can change, add, and remove items in a list after it has been created.\n",
    "- List items are indexed, the first item has index [0], the second item has index [1] etc.\n",
    "- Since lists are indexed, lists can have duplicate items with the same value.\n",
    "\n",
    "#### Operations on List\n",
    "\n",
    "We learned that there are numerous operations that can be performed on lists like ...\n",
    "- getting the length\n",
    "- accessing elements by index\n",
    "- extending and changing lists\n",
    "- adding and repeating lists\n",
    "- sorting lists\n",
    "- and we can copy, clear and delete lists\n"
   ]
  },
  {
   "cell_type": "markdown",
   "metadata": {},
   "source": [
    "\n",
    "> **For our purposes of Data Analysis, We'll learn about and use the `NumPy` module built for the manipulation of multi-dimensional array data.**\n",
    "\n"
   ]
  },
  {
   "cell_type": "markdown",
   "metadata": {},
   "source": [
    "\n",
    "---\n",
    "\n",
    "<br>\n",
    "\n",
    "## Python NumPy Module\n",
    "\n",
    "We'll look at aspects such as ...\n",
    "\n",
    "- What are NumPy Arrays?\n",
    "- Where is NumPy used?\n",
    "- NumPy Arrays v/s List\n",
    "- Why NumPy is used in Python?\n",
    "- NumPy Operations\n",
    "\n",
    "<br>\n",
    "\n",
    "![What Is Numpy](./images/What_Is_NumPy.png)"
   ]
  },
  {
   "cell_type": "markdown",
   "metadata": {},
   "source": [
    "### Introduction\n",
    "\n",
    "**NumPy** (_Numerical Python_) is an open-source library for the Python programming language. It is used for scientific computing and working with arrays.\n",
    "\n",
    "Apart from its multidimensional array object, it also provides high-level functioning tools for working with such arrays.\n"
   ]
  },
  {
   "cell_type": "markdown",
   "metadata": {},
   "source": [
    "### What NumPy Does\n",
    "\n",
    "- It contains a _multidimensional array_ and matrix data structure (in the form of rows and columns)\n",
    "- Provides a powerful homogeneous _N-dimensional array object_\n",
    "- Supplies an enormous library of high-level mathematical functions that operate on these arrays and matrices\n",
    "- Provides sophisticated _broadcasting_ functions\n",
    "- Adds powerful data structures to Python that guarantee _efficient calculations_ with arrays and matrices\n",
    "\n",
    "<br>\n",
    "\n",
    "![The uses of NumPy](./images/Uses-of-NumPy.png)\n",
    "\n",
    "<br>\n",
    "\n",
    "Besides its obvious scientific uses, NumPy can also be used as an efficient multi-dimensional container of generic data. \n",
    "\n",
    "Arbitrary data-types can be defined. This allows NumPy to seamlessly and speedily integrate with a wide variety of databases.\n",
    "\n",
    "<br>"
   ]
  },
  {
   "cell_type": "markdown",
   "metadata": {},
   "source": [
    "### NumPy works along with other Packages\n",
    "\n",
    "NumPy combines well with other Python packages like SciPy, Pandas,  Matplotlib, Tkinter, etc. \n",
    "\n",
    "The combination of NumPy with other libraries implements a variety of Data Science and Analytics utilities for data wrangling and visualizations etc.\n",
    "\n",
    "![Applications of NumPy](./images/Applications-of-NumPy.png)"
   ]
  },
  {
   "cell_type": "markdown",
   "metadata": {},
   "source": [
    "<br>\n",
    "\n",
    "#### **What is a Multi-Dimensional Array**\n",
    "\n",
    "We could graphically display the different elements of an array stored in their respective memory locations, in an image like this. \n",
    "\n",
    "This image represents a two-dimensional (2-D) array, because it has 2 plains -- rows as well as columns: 3 columns and 4 rows of address locations available. Or and X and Y axis if one thinks of the data being arranged on axis. \n",
    "\n",
    "![A Multi Dimensional Array](./images/MultiDimensionalArray.png)\n",
    "\n",
    "NumPy has capabilities to handle more than 2 dimensions of data. \n",
    "\n",
    "Think 3-D, like a cube or something with an X, Y, and Z axis. \n",
    "\n",
    "But NumPy can even do more than 3 dimensions like 4-D etc. ..."
   ]
  },
  {
   "cell_type": "markdown",
   "metadata": {},
   "source": [
    "<br>\n",
    "\n",
    "### More about NumPy Arrays\n",
    "\n",
    "- Usually a fixed-size container of items of the same type and size\n",
    "- An array is the central data structure of the NumPy library\n",
    "- It's a grid of values that contains information about raw data, how to locate an element, and how to interpret it\n",
    "- The elements are all the same, referred to as the array `dtype`\n",
    "- The number of `dimensions` and items in an array defines its `SHAPE`\n",
    "- The shape is a _**tuple** of non-negative integers_ that specify the `sizes` of each `dimension`\n",
    "- The rank of the array is the number of its `dimensions`\n",
    "\n",
    "> You can read all about NumPy at the NumPy project website -- [https://numpy.org/](https://numpy.org/)\n"
   ]
  },
  {
   "cell_type": "markdown",
   "metadata": {},
   "source": [
    "### Useful NumPy keywords\n",
    "\n",
    "- **Ndarray** == N-dimensional array\n",
    "- **1-D** == one dimensional array\n",
    "- **2-D** == two-dimensional array\n",
    "- **3-D** == three-dimensional array\n",
    "- **Vector** == an array with a single dimension\n",
    "- **Matrix** == an array with two dimensions\n",
    "- **Tensor** == an array with 3+ dimensions\n",
    "- **Dimensions** == the number of axes of an array\n"
   ]
  },
  {
   "cell_type": "code",
   "execution_count": null,
   "metadata": {},
   "outputs": [],
   "source": [
    "# Example of discovering the shape and size of a Numpy Array\n",
    "\n",
    "import numpy as np\n",
    "\n",
    "array_example = np.array([ [ [0, 1, 2, 3], [4, 5, 6, 7] ],\n",
    "                            [ [0, 1, 2, 3], [4, 5, 6, 7] ],\n",
    "                            [[0 ,1 ,2, 3], [4, 5, 6, 7] ] ])\n",
    "\n",
    "print(\"Array dimensions ...\", array_example.ndim)\n",
    "print(\"Array size and length ...\", array_example.size)\n",
    "print(\"Array shape ...\", array_example.shape)\n",
    "\n",
    "#### We'll look at this again ####"
   ]
  },
  {
   "cell_type": "markdown",
   "metadata": {},
   "source": [
    "<br>\n",
    "\n",
    "#### **Install NumPy**\n",
    "\n",
    "With Pip setup on your system, you can use the command line for installing NumPy.\n",
    "\n",
    "Install NumPy with Python by typing:\n",
    "\n",
    "```bash\n",
    "    pip install numpy\n",
    "```\n",
    "\n",
    "#### **Importing NumPy into your projects**\n",
    "\n",
    "To use NumPy we need to import it like any other modules\n"
   ]
  },
  {
   "cell_type": "code",
   "execution_count": null,
   "metadata": {},
   "outputs": [],
   "source": [
    "# Import the module\n",
    "import numpy\n",
    "\n",
    "# OR import and alias the module for easy inline use\n",
    "import numpy as np"
   ]
  },
  {
   "cell_type": "markdown",
   "metadata": {},
   "source": [
    "<br>\n",
    "\n",
    "### Python NumPy Array vs. List\n",
    "\n",
    "We use python NumPy array instead of a list because of the below three reasons:\n",
    "\n",
    "- Less Memory - NumPy arrays occupy less memory as compared to list\n",
    "- Fast - NumPy arrays are fast compared to lists\n",
    "- Convenient - it is convenient to work with NumPy\n",
    "\n",
    "> Biggest difference between Python lists and NumPy arrays: NumPy arrays are homogeneous -- Of the same or a similar kind or nature; This referring to the ability of a NumPy array to gold just one single data type.\n"
   ]
  },
  {
   "cell_type": "code",
   "execution_count": null,
   "metadata": {},
   "outputs": [],
   "source": [
    "# how much memory is consumed by NumPy vs Lists\n",
    "\n",
    "import numpy as np\n",
    "import time\n",
    "import sys\n",
    "\n",
    "# allocate a list\n",
    "pyList = range(1000) \n",
    "print(\"Memory size of pyList ...\", sys.getsizeof(pyList)*len(pyList))\n",
    "\n",
    "# allocate a NumPy array\n",
    "pyArray = np.arange(1000)\n",
    "print(\"Memory size of pyArray ...\", pyArray.size*pyArray.itemsize)\n"
   ]
  },
  {
   "cell_type": "code",
   "execution_count": null,
   "metadata": {},
   "outputs": [],
   "source": [
    "# how fast is NumPy vs Lists\n",
    "\n",
    "import time\n",
    "import sys\n",
    "SIZE = 1000000\n",
    "\n",
    "# create 2 lists and 2 arrays of equal size \n",
    "L1= range(SIZE)\n",
    "L2= range(SIZE)\n",
    "A1= np.arange(SIZE)\n",
    "A2=np.arange(SIZE)\n",
    "\n",
    "# time to find the sum of lists\n",
    "start= time.time()\n",
    "result=[(x,y) for x,y in zip(L1,L2)]\n",
    "print(\"List time in ms ...\", (time.time()-start)*1000)\n",
    "\n",
    "# time to find the sum of numpy arrays\n",
    "start=time.time()\n",
    "result= A1+A2\n",
    "print(\"NumPy time in ms ...\", (time.time()-start)*1000)\n"
   ]
  },
  {
   "cell_type": "markdown",
   "metadata": {},
   "source": [
    "\n",
    "---\n",
    "\n",
    "<br>\n",
    "\n",
    "### Let's Get Physical and Create Some Arrays\n",
    "\n",
    "All you need to do to create a simple array is pass a list to it. If you choose to, you can also specify the type of data in your list\n",
    "\n",
    "To create a NumPy array, you can use the function `np.array()`.\n"
   ]
  },
  {
   "cell_type": "code",
   "execution_count": null,
   "metadata": {},
   "outputs": [],
   "source": [
    "# creating Numpy Arrays\n",
    "import numpy as np\n",
    "\n",
    "a1 = np.array([1, 2, 3, 4, 5, 6])\n",
    "print(a1)\n",
    "\n",
    "a2 = np.array([[1, 2, 3, 4], [5, 6, 7, 8], [9, 10, 11, 12]])\n",
    "print(a2)\n"
   ]
  },
  {
   "cell_type": "markdown",
   "metadata": {},
   "source": [
    "\n",
    "Besides creating an array from a sequence of elements, \n",
    "    \n",
    "    -- you can easily create an array filled with 0’s, or 1's :"
   ]
  },
  {
   "cell_type": "code",
   "execution_count": null,
   "metadata": {},
   "outputs": [],
   "source": [
    "import numpy as np\n",
    "\n",
    "# build an array with 4x zeros\n",
    "b = np.zeros(4)\n",
    "print(\"b ...\", b)\n",
    "\n",
    "# build an array with 3x ones\n",
    "c = np.ones(3)\n",
    "print(\"c ...\", c)"
   ]
  },
  {
   "cell_type": "markdown",
   "metadata": {},
   "source": [
    "**Or even create an empty array!**\n",
    "\n",
    "The function `empty` creates an array whose initial content is random and depends on the state of the memory. The reason to use `empty()` over `zeros()` (or something similar) is speed - just make sure to fill every element afterwards!"
   ]
  },
  {
   "cell_type": "code",
   "execution_count": null,
   "metadata": {},
   "outputs": [],
   "source": [
    "# create an empty array\n",
    "import numpy as np\n",
    "\n",
    "d = np.empty(3)\n",
    "print(d)"
   ]
  },
  {
   "cell_type": "markdown",
   "metadata": {},
   "source": [
    "**You can create an array with a range of elements**:\n"
   ]
  },
  {
   "cell_type": "code",
   "execution_count": null,
   "metadata": {},
   "outputs": [],
   "source": [
    "# create an array from `a range`\n",
    "import numpy as np\n",
    "\n",
    "e = np.arange(5)\n",
    "print(e)"
   ]
  },
  {
   "cell_type": "markdown",
   "metadata": {},
   "source": [
    "**And even an array that contains a range of evenly spaced intervals!**\n",
    "\n",
    "To do this, you will specify the first number, last number, and the step size.\n",
    "\n",
    "Note: This creates a range from the 1st num, up to but not including the 2nd num."
   ]
  },
  {
   "cell_type": "code",
   "execution_count": null,
   "metadata": {},
   "outputs": [],
   "source": [
    "# Contains `a range`` of evenly spaced intervals\n",
    "# between 1st num, and 2nd num, in steps of 3rd num\n",
    "import numpy as np\n",
    "\n",
    "f = np.arange(2, 9, 2)\n",
    "print(f)"
   ]
  },
  {
   "cell_type": "markdown",
   "metadata": {},
   "source": [
    "**You can also use `np.linspace()` to create an array with linearly spaced values at specified intervals**:"
   ]
  },
  {
   "cell_type": "code",
   "execution_count": null,
   "metadata": {},
   "outputs": [],
   "source": [
    "# create an array with linearly spaced values at a specified interval\n",
    "import numpy as np\n",
    "\n",
    "# range from 0 up to 14 in 5 intervals\n",
    "g = np.linspace(0, 14, num=5)\n",
    "print(g)\n"
   ]
  },
  {
   "cell_type": "markdown",
   "metadata": {},
   "source": [
    "#### Specifying your data type\n",
    "\n",
    "While the default data type of a NumPy Array is floating point (np.float64), you can explicitly specify which data type you want using the `dtype` keyword:"
   ]
  },
  {
   "cell_type": "code",
   "execution_count": null,
   "metadata": {},
   "outputs": [],
   "source": [
    "# explicitly specify which data type you want\n",
    "import numpy as np\n",
    "\n",
    "h = np.ones(2, dtype=np.int64)\n",
    "print(h)\n"
   ]
  },
  {
   "cell_type": "markdown",
   "metadata": {},
   "source": [
    "You can learn more about creating arrays here -- [NumPy.org - QuickStart Array Creation](https://numpy.org/doc/stable/user/quickstart.html#quickstart-array-creation)"
   ]
  }
 ],
 "metadata": {
  "kernelspec": {
   "display_name": "Python 3.10.7 64-bit",
   "language": "python",
   "name": "python3"
  },
  "language_info": {
   "codemirror_mode": {
    "name": "ipython",
    "version": 3
   },
   "file_extension": ".py",
   "mimetype": "text/x-python",
   "name": "python",
   "nbconvert_exporter": "python",
   "pygments_lexer": "ipython3",
   "version": "3.10.7"
  },
  "orig_nbformat": 4,
  "vscode": {
   "interpreter": {
    "hash": "369f2c481f4da34e4445cda3fffd2e751bd1c4d706f27375911949ba6bb62e1c"
   }
  }
 },
 "nbformat": 4,
 "nbformat_minor": 2
}
